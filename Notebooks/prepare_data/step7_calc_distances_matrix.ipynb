{
 "cells": [
  {
   "cell_type": "code",
   "execution_count": 1,
   "metadata": {},
   "outputs": [],
   "source": [
    "%load_ext autoreload\n",
    "import os\n",
    "import json\n",
    "import pandas as pd\n",
    "import numpy as np\n",
    "import matplotlib.pyplot as plt\n",
    "from postamats.utils import load, helpers\n",
    "from postamats.utils.connections import PATH_TO_ROOT, DB\n",
    "from postamats.global_constants import ALL_METRO_NAME, OBJECT_ID_METRO_COL, ALL_OBJECTS_NAME, OBJECT_ID_COL,\\\n",
    "    CENTER_MASS_ID_COL, CENTER_MASS_NAME, METERS_TO_SEC_COEF\n",
    "\n",
    "pd.set_option('display.max_columns', None)"
   ]
  },
  {
   "cell_type": "code",
   "execution_count": 2,
   "metadata": {},
   "outputs": [
    {
     "name": "stdout",
     "output_type": "stream",
     "text": [
      "1.152 сек/м\n"
     ]
    }
   ],
   "source": [
    "# рассчитаем коэффициент перевода метров во время ходьбы\n",
    "walk_time_500 = [10,9,11,10,10,11,9,9,9,8]\n",
    "walk_speed = 500 / (60 * np.mean([10,9,11,10,10,11,9,9,9,8]))\n",
    "meters_to_sec_coef = 1 / walk_speed\n",
    "print(meters_to_sec_coef, 'сек/м')"
   ]
  },
  {
   "cell_type": "code",
   "execution_count": 3,
   "metadata": {},
   "outputs": [],
   "source": [
    "CONFIG_PATH = os.path.join(PATH_TO_ROOT, 'db_config.json')\n",
    "with open(CONFIG_PATH, mode='r') as db_file:\n",
    "    db_config = json.load(db_file)\n",
    "database = DB(db_config)"
   ]
  },
  {
   "cell_type": "markdown",
   "metadata": {},
   "source": [
    "Пайплайн расчета матрицы дистанций на стороне БД"
   ]
  },
  {
   "cell_type": "code",
   "execution_count": 4,
   "metadata": {},
   "outputs": [],
   "source": [
    "# load.calc_distances_matrix_database(CONFIG_PATH)"
   ]
  },
  {
   "cell_type": "markdown",
   "metadata": {},
   "source": [
    "Пайплайн расчета матрицы дистанций локально"
   ]
  },
  {
   "cell_type": "code",
   "execution_count": 5,
   "metadata": {},
   "outputs": [],
   "source": [
    "# all_dists_metro = load.calc_distances_matrix_locally(\n",
    "#     CONFIG_PATH,\n",
    "#     table1=ALL_OBJECTS_NAME,\n",
    "#     id1_col=OBJECT_ID_COL,\n",
    "#     table2=ALL_METRO_NAME,\n",
    "#     id2_col=OBJECT_ID_METRO_COL,\n",
    "#     meters_to_sec_coef=METERS_TO_SEC_COEF\n",
    "#     )\n",
    "# display(all_dists_metro.head())\n",
    "# print(all_dists_metro.shape)"
   ]
  },
  {
   "cell_type": "code",
   "execution_count": 6,
   "metadata": {},
   "outputs": [
    {
     "name": "stdout",
     "output_type": "stream",
     "text": [
      "Загружаем из БД all_objects_data\n",
      "Connection to PostgreSQL DB successful\n"
     ]
    },
    {
     "name": "stderr",
     "output_type": "stream",
     "text": [
      "/Users/affernus/PROJECTS/hacks/postomat_optimisation/src/postamats/utils/connections.py:96: UserWarning: pandas only supports SQLAlchemy connectable (engine/connection) or database string URI or sqlite3 DBAPI2 connection. Other DBAPI2 objects are not tested. Please consider using SQLAlchemy.\n",
      "  df = pd.read_sql_query(query, connection)\n"
     ]
    },
    {
     "name": "stdout",
     "output_type": "stream",
     "text": [
      "Загружаем из БД centers_mass\n",
      "Connection to PostgreSQL DB successful\n"
     ]
    },
    {
     "name": "stderr",
     "output_type": "stream",
     "text": [
      "/Users/affernus/PROJECTS/hacks/postomat_optimisation/src/postamats/utils/connections.py:96: UserWarning: pandas only supports SQLAlchemy connectable (engine/connection) or database string URI or sqlite3 DBAPI2 connection. Other DBAPI2 objects are not tested. Please consider using SQLAlchemy.\n",
      "  df = pd.read_sql_query(query, connection)\n"
     ]
    },
    {
     "name": "stdout",
     "output_type": "stream",
     "text": [
      "include_houses = False, многоквартирные дома будут исключены из рассчета расстояний.\n",
      "Размер картезианова датафрейма: 5160 x 46544 = 240167040.\n",
      "Датафрейм будет разбит на 25 частей\n",
      "Получаем картезиановы датафреймы для каждой части:\n"
     ]
    },
    {
     "name": "stderr",
     "output_type": "stream",
     "text": [
      "100%|██████████| 25/25 [00:25<00:00,  1.01s/it]\n"
     ]
    },
    {
     "name": "stdout",
     "output_type": "stream",
     "text": [
      "Считаем расстояния:\n"
     ]
    },
    {
     "name": "stderr",
     "output_type": "stream",
     "text": [
      "100%|██████████| 25/25 [01:00<00:00,  2.42s/it]\n"
     ]
    },
    {
     "name": "stdout",
     "output_type": "stream",
     "text": [
      "Объединяем срезы ... успешно\n"
     ]
    }
   ],
   "source": [
    "all_dists = load.calc_distances_matrix_locally(\n",
    "    CONFIG_PATH,\n",
    "    table1=ALL_OBJECTS_NAME,\n",
    "    id1_col=OBJECT_ID_COL,\n",
    "    table2=CENTER_MASS_NAME,\n",
    "    id2_col=CENTER_MASS_ID_COL,\n",
    "    meters_to_sec_coef=METERS_TO_SEC_COEF\n",
    ")"
   ]
  },
  {
   "cell_type": "code",
   "execution_count": null,
   "metadata": {},
   "outputs": [],
   "source": [
    "display(all_dists.head())\n",
    "print(all_dists.shape)"
   ]
  },
  {
   "cell_type": "code",
   "execution_count": null,
   "metadata": {},
   "outputs": [],
   "source": [
    "# all_dists_metro_filtered = all_dists_metro[all_dists_metro['walk_time'] < 40 * 60]\n",
    "all_dists_filtered = all_dists[all_dists['walk_time'] < 40 * 60]"
   ]
  },
  {
   "cell_type": "code",
   "execution_count": null,
   "metadata": {},
   "outputs": [],
   "source": [
    "# database.load_to_bd(all_dists_filtered, 'distances_matrix_filter')"
   ]
  },
  {
   "cell_type": "code",
   "execution_count": null,
   "metadata": {},
   "outputs": [],
   "source": [
    "# database.load_to_bd(all_dists_metro_filtered, 'distances_matrix_metro_filter')"
   ]
  },
  {
   "cell_type": "code",
   "execution_count": null,
   "metadata": {},
   "outputs": [],
   "source": [
    "# database.load_to_bd(all_dists_metro, 'distances_matrix_metro')"
   ]
  },
  {
   "cell_type": "code",
   "execution_count": null,
   "metadata": {},
   "outputs": [],
   "source": [
    "# database.load_to_bd(all_dists, 'distances_matrix')"
   ]
  }
 ],
 "metadata": {
  "kernelspec": {
   "display_name": "Python 3.9.4 64-bit ('ldt394')",
   "language": "python",
   "name": "python3"
  },
  "language_info": {
   "codemirror_mode": {
    "name": "ipython",
    "version": 3
   },
   "file_extension": ".py",
   "mimetype": "text/x-python",
   "name": "python",
   "nbconvert_exporter": "python",
   "pygments_lexer": "ipython3",
   "version": "3.9.4"
  },
  "orig_nbformat": 4,
  "vscode": {
   "interpreter": {
    "hash": "416ff4a8a645b770b77c696377ba1e06dd5c02854843a1a2f9b93263871a68e5"
   }
  }
 },
 "nbformat": 4,
 "nbformat_minor": 2
}
