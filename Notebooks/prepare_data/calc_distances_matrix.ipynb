{
 "cells": [
  {
   "cell_type": "code",
   "execution_count": 1,
   "metadata": {},
   "outputs": [],
   "source": [
    "%load_ext autoreload\n",
    "import os\n",
    "import pandas as pd\n",
    "from postamats.utils import load\n",
    "from postamats.utils.connections import PATH_TO_ROOT\n",
    "\n",
    "pd.set_option('display.max_columns', None)"
   ]
  },
  {
   "cell_type": "markdown",
   "metadata": {},
   "source": [
    "Пайплайн расчета матрицы дистанций на стороне БД"
   ]
  },
  {
   "cell_type": "code",
   "execution_count": 2,
   "metadata": {},
   "outputs": [
    {
     "name": "stdout",
     "output_type": "stream",
     "text": [
      "aborted\n"
     ]
    }
   ],
   "source": [
    "CONFIG_PATH = os.path.join(PATH_TO_ROOT, 'db_config.json')\n",
    "load.calc_distances_matrix_database(CONFIG_PATH)"
   ]
  },
  {
   "cell_type": "markdown",
   "metadata": {},
   "source": [
    "Пайплайн расчета матрицы дистанций локально"
   ]
  },
  {
   "cell_type": "code",
   "execution_count": 3,
   "metadata": {},
   "outputs": [
    {
     "name": "stdout",
     "output_type": "stream",
     "text": [
      "Загружаем из БД all_objects_data\n",
      "Connection to PostgreSQL DB successful\n"
     ]
    },
    {
     "name": "stderr",
     "output_type": "stream",
     "text": [
      "/Users/affernus/PROJECTS/hacks/postomat_optimisation/src/postamats/utils/connections.py:96: UserWarning: pandas only supports SQLAlchemy connectable (engine/connection) or database string URI or sqlite3 DBAPI2 connection. Other DBAPI2 objects are not tested. Please consider using SQLAlchemy.\n",
      "  df = pd.read_sql_query(query, connection)\n"
     ]
    },
    {
     "name": "stdout",
     "output_type": "stream",
     "text": [
      "Загружаем из БД centers_mass\n",
      "Connection to PostgreSQL DB successful\n"
     ]
    },
    {
     "name": "stderr",
     "output_type": "stream",
     "text": [
      "/Users/affernus/PROJECTS/hacks/postomat_optimisation/src/postamats/utils/connections.py:96: UserWarning: pandas only supports SQLAlchemy connectable (engine/connection) or database string URI or sqlite3 DBAPI2 connection. Other DBAPI2 objects are not tested. Please consider using SQLAlchemy.\n",
      "  df = pd.read_sql_query(query, connection)\n"
     ]
    },
    {
     "name": "stdout",
     "output_type": "stream",
     "text": [
      "Размер картезианова датафрейма: 5160 x 29020 = 149743200.\n",
      "Датафрейм будет разбит на 15 частей\n",
      "Получаем картезиановы датафреймы для каждой части:\n"
     ]
    },
    {
     "name": "stderr",
     "output_type": "stream",
     "text": [
      "100%|██████████| 15/15 [00:13<00:00,  1.09it/s]\n"
     ]
    },
    {
     "name": "stdout",
     "output_type": "stream",
     "text": [
      "Считаем расстояния:\n"
     ]
    },
    {
     "name": "stderr",
     "output_type": "stream",
     "text": [
      "100%|██████████| 15/15 [00:23<00:00,  1.54s/it]\n"
     ]
    },
    {
     "name": "stdout",
     "output_type": "stream",
     "text": [
      "Объединяем срезы ... успешно\n"
     ]
    }
   ],
   "source": [
    "all_dists = load.calc_distances_matrix_locally(CONFIG_PATH)"
   ]
  },
  {
   "cell_type": "code",
   "execution_count": 4,
   "metadata": {},
   "outputs": [
    {
     "data": {
      "text/html": [
       "<div>\n",
       "<style scoped>\n",
       "    .dataframe tbody tr th:only-of-type {\n",
       "        vertical-align: middle;\n",
       "    }\n",
       "\n",
       "    .dataframe tbody tr th {\n",
       "        vertical-align: top;\n",
       "    }\n",
       "\n",
       "    .dataframe thead th {\n",
       "        text-align: right;\n",
       "    }\n",
       "</style>\n",
       "<table border=\"1\" class=\"dataframe\">\n",
       "  <thead>\n",
       "    <tr style=\"text-align: right;\">\n",
       "      <th></th>\n",
       "      <th>object_id</th>\n",
       "      <th>lat_x</th>\n",
       "      <th>lon_x</th>\n",
       "      <th>id_center_mass</th>\n",
       "      <th>lat_y</th>\n",
       "      <th>lon_y</th>\n",
       "      <th>distance</th>\n",
       "    </tr>\n",
       "  </thead>\n",
       "  <tbody>\n",
       "    <tr>\n",
       "      <th>0</th>\n",
       "      <td>b819ec2781bebd714e39a3e9d0133709397868b238d6e7...</td>\n",
       "      <td>55.74353</td>\n",
       "      <td>37.820679</td>\n",
       "      <td>3081_1182_2</td>\n",
       "      <td>55.497335</td>\n",
       "      <td>37.583356</td>\n",
       "      <td>31132.043294</td>\n",
       "    </tr>\n",
       "    <tr>\n",
       "      <th>1</th>\n",
       "      <td>b819ec2781bebd714e39a3e9d0133709397868b238d6e7...</td>\n",
       "      <td>55.74353</td>\n",
       "      <td>37.820679</td>\n",
       "      <td>3082_1180_2</td>\n",
       "      <td>55.508358</td>\n",
       "      <td>37.538272</td>\n",
       "      <td>31556.679261</td>\n",
       "    </tr>\n",
       "    <tr>\n",
       "      <th>2</th>\n",
       "      <td>b819ec2781bebd714e39a3e9d0133709397868b238d6e7...</td>\n",
       "      <td>55.74353</td>\n",
       "      <td>37.820679</td>\n",
       "      <td>3082_1181_2</td>\n",
       "      <td>55.509816</td>\n",
       "      <td>37.545868</td>\n",
       "      <td>31156.649913</td>\n",
       "    </tr>\n",
       "    <tr>\n",
       "      <th>3</th>\n",
       "      <td>b819ec2781bebd714e39a3e9d0133709397868b238d6e7...</td>\n",
       "      <td>55.74353</td>\n",
       "      <td>37.820679</td>\n",
       "      <td>3082_1182_2</td>\n",
       "      <td>55.503556</td>\n",
       "      <td>37.587920</td>\n",
       "      <td>30387.895566</td>\n",
       "    </tr>\n",
       "    <tr>\n",
       "      <th>4</th>\n",
       "      <td>b819ec2781bebd714e39a3e9d0133709397868b238d6e7...</td>\n",
       "      <td>55.74353</td>\n",
       "      <td>37.820679</td>\n",
       "      <td>3083_1178_2</td>\n",
       "      <td>55.531160</td>\n",
       "      <td>37.477049</td>\n",
       "      <td>31943.404257</td>\n",
       "    </tr>\n",
       "  </tbody>\n",
       "</table>\n",
       "</div>"
      ],
      "text/plain": [
       "                                           object_id     lat_x      lon_x  \\\n",
       "0  b819ec2781bebd714e39a3e9d0133709397868b238d6e7...  55.74353  37.820679   \n",
       "1  b819ec2781bebd714e39a3e9d0133709397868b238d6e7...  55.74353  37.820679   \n",
       "2  b819ec2781bebd714e39a3e9d0133709397868b238d6e7...  55.74353  37.820679   \n",
       "3  b819ec2781bebd714e39a3e9d0133709397868b238d6e7...  55.74353  37.820679   \n",
       "4  b819ec2781bebd714e39a3e9d0133709397868b238d6e7...  55.74353  37.820679   \n",
       "\n",
       "  id_center_mass      lat_y      lon_y      distance  \n",
       "0    3081_1182_2  55.497335  37.583356  31132.043294  \n",
       "1    3082_1180_2  55.508358  37.538272  31556.679261  \n",
       "2    3082_1181_2  55.509816  37.545868  31156.649913  \n",
       "3    3082_1182_2  55.503556  37.587920  30387.895566  \n",
       "4    3083_1178_2  55.531160  37.477049  31943.404257  "
      ]
     },
     "execution_count": 4,
     "metadata": {},
     "output_type": "execute_result"
    }
   ],
   "source": [
    "all_dists.head()"
   ]
  }
 ],
 "metadata": {
  "kernelspec": {
   "display_name": "Python 3.9.4 64-bit ('ldt394')",
   "language": "python",
   "name": "python3"
  },
  "language_info": {
   "codemirror_mode": {
    "name": "ipython",
    "version": 3
   },
   "file_extension": ".py",
   "mimetype": "text/x-python",
   "name": "python",
   "nbconvert_exporter": "python",
   "pygments_lexer": "ipython3",
   "version": "3.9.4"
  },
  "orig_nbformat": 4,
  "vscode": {
   "interpreter": {
    "hash": "416ff4a8a645b770b77c696377ba1e06dd5c02854843a1a2f9b93263871a68e5"
   }
  }
 },
 "nbformat": 4,
 "nbformat_minor": 2
}
