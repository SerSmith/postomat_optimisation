{
 "metadata": {
  "language_info": {
   "codemirror_mode": {
    "name": "ipython",
    "version": 3
   },
   "file_extension": ".py",
   "mimetype": "text/x-python",
   "name": "python",
   "nbconvert_exporter": "python",
   "pygments_lexer": "ipython3",
   "version": "3.10.6-final"
  },
  "orig_nbformat": 2,
  "kernelspec": {
   "name": "python3",
   "display_name": "Python 3.10.6 64-bit ('postomats_venv')",
   "metadata": {
    "interpreter": {
     "hash": "8bfe0624401755183a58f33cb9a54d99252c7f05c761389db13c8abe31af793f"
    }
   }
  }
 },
 "nbformat": 4,
 "nbformat_minor": 2,
 "cells": [
  {
   "source": [
    "## Найдем сетку по домам с центрами масс"
   ],
   "cell_type": "markdown",
   "metadata": {}
  },
  {
   "source": [
    "У нас много домов и некоторые расчеты могут происходить долго, поэтому построим сетку с разным шагом (100 метров, 500 метров, 1 км, 2 км) на которую мы наложим дома с населением, посчитав в каждой ячейке центр масс. Делаем это, чтобы уменьшить объем данных для ускорения работы алгоритмов"
   ],
   "cell_type": "markdown",
   "metadata": {}
  },
  {
   "cell_type": "code",
   "execution_count": 1,
   "metadata": {},
   "outputs": [],
   "source": [
    "import os\n",
    "import json\n",
    "import pandas as pd\n",
    "import numpy as np\n",
    "import sys\n",
    "\n",
    "sys.path.append('/Users/marina/Documents/my_projects/hackathon_postomat')\n",
    "from postomat_optimisation.src.postamats.utils.connections import DB\n",
    "from postomat_optimisation.src.postamats.utils.helpers import haversine\n",
    "\n",
    "pd.set_option('display.max_columns', None)"
   ]
  },
  {
   "cell_type": "code",
   "execution_count": 2,
   "metadata": {},
   "outputs": [],
   "source": [
    "CONFIG_PATH = \"//Users/marina/Documents/my_projects/hackathon_postomat/db_config.json\"\n",
    "with open(CONFIG_PATH) as f:\n",
    "    db_config = json.load(f)\n",
    "\n",
    "db = DB(db_config)"
   ]
  },
  {
   "cell_type": "code",
   "execution_count": 38,
   "metadata": {},
   "outputs": [
    {
     "output_type": "stream",
     "name": "stdout",
     "text": [
      "Connection to PostgreSQL DB successful\n",
      "/Users/marina/Documents/my_projects/hackathon_postomat/postomat_optimisation/src/postamats/utils/connections.py:75: UserWarning: pandas only supports SQLAlchemy connectable (engine/connection) or database string URI or sqlite3 DBAPI2 connection. Other DBAPI2 objects are not tested. Please consider using SQLAlchemy.\n",
      "  df = pd.read_sql_query(f'select * from {table_name}', connection)\n"
     ]
    }
   ],
   "source": [
    "df = db.get_table_from_bd('apartment_houses_all_data')"
   ]
  },
  {
   "cell_type": "code",
   "execution_count": 40,
   "metadata": {},
   "outputs": [],
   "source": [
    "df['population'] = df['total_area']/22"
   ]
  },
  {
   "cell_type": "code",
   "execution_count": 41,
   "metadata": {},
   "outputs": [
    {
     "output_type": "execute_result",
     "data": {
      "text/plain": [
       "           object_type on_moscow_territory  \\\n",
       "0  многоквартирный дом                  да   \n",
       "1  многоквартирный дом                  да   \n",
       "\n",
       "                                             address  \\\n",
       "0  Российская Федерация, город Москва, внутригоро...   \n",
       "1  Российская Федерация, город Москва, внутригоро...   \n",
       "\n",
       "                        simple_address            street local_object_type  \\\n",
       "0  улица Бахрушина, дом 10, строение 3   улица Бахрушина               дом   \n",
       "1    улица Артамонова, дом 8, корпус 2  улица Артамонова               дом   \n",
       "\n",
       "  local_object_num korpus_num stroenie_num  \\\n",
       "0               10       None            3   \n",
       "1                8          2         None   \n",
       "\n",
       "                             adm_area                            district  \\\n",
       "0  Центральный административный округ   муниципальный округ Замоскворечье   \n",
       "1     Западный административный округ  муниципальный округ Фили-Давыдково   \n",
       "\n",
       "  num_addr_register date_addr_register                             guid_fias  \\\n",
       "0           1001314         24.05.2002  FFBC94D2-7371-426A-9AAA-2F606FD1BE86   \n",
       "1           7103698         24.12.2003  0DA29A7F-E80F-415A-8C73-4C780014EA98   \n",
       "\n",
       "    date_fias               kad_n kad_zu         kladr_code   addr_status  \\\n",
       "0  24.11.2011  77:01:0002012:1017   None  77000000000081800  Внесён в ГКН   \n",
       "1  27.02.2012  77:07:0009003:1020   None  77000000000076700  Внесён в ГКН   \n",
       "\n",
       "                                             geodata        lat        lon  \\\n",
       "0  {{37.6347869776043,55.735330239525},{37.634592...  55.735592  37.634462   \n",
       "1  {{37.4572289466062,55.720043356036},{37.456852...  55.720403  37.457119   \n",
       "\n",
       "                                           object_id  \\\n",
       "0  a1b50bfc376ea37edebd16ddd131b106bf8d8c846983a9...   \n",
       "1  9a11acf2996873fc758e8f2454f47250bd5239153c8dc8...   \n",
       "\n",
       "                                         address_gis  \\\n",
       "0  115054, Москва г, ул. Бахрушина, д. 10, строен...   \n",
       "1    121357, Москва г, ул. Артамонова, д. 8, корп. 2   \n",
       "\n",
       "                       address_gis_code oktmo_code management_method  \\\n",
       "0  ffbc94d2-7371-426a-9aaa-2f606fd1be86   45376000                УО   \n",
       "1  0da29a7f-e80f-415a-8c73-4c780014ea98   45329000                УО   \n",
       "\n",
       "  management_ogrn management_kpp  \\\n",
       "0   5137746116646      770501001   \n",
       "1   1157746682610      773101001   \n",
       "\n",
       "                                     management_name       house_type  \\\n",
       "0  ГОСУДАРСТВЕННОЕ БЮДЖЕТНОЕ УЧРЕЖДЕНИЕ ГОРОДА МО...  Многоквартирный   \n",
       "1  ГОСУДАРСТВЕННОЕ БЮДЖЕТНОЕ УЧРЕЖДЕНИЕ ГОРОДА МО...  Многоквартирный   \n",
       "\n",
       "   condition  total_area  living_area demolition_date cadastral_num  \\\n",
       "0  Исправный      2184.3       2099.5            None          None   \n",
       "1  Исправный      3187.0          NaN            None          None   \n",
       "\n",
       "                             guid_house  population  \n",
       "0  22e4df6f-c568-4b7d-b119-cdb90deddf1c   99.286364  \n",
       "1  769ca40a-b4a8-4991-9a51-42117cfddd44  144.863636  "
      ],
      "text/html": "<div>\n<style scoped>\n    .dataframe tbody tr th:only-of-type {\n        vertical-align: middle;\n    }\n\n    .dataframe tbody tr th {\n        vertical-align: top;\n    }\n\n    .dataframe thead th {\n        text-align: right;\n    }\n</style>\n<table border=\"1\" class=\"dataframe\">\n  <thead>\n    <tr style=\"text-align: right;\">\n      <th></th>\n      <th>object_type</th>\n      <th>on_moscow_territory</th>\n      <th>address</th>\n      <th>simple_address</th>\n      <th>street</th>\n      <th>local_object_type</th>\n      <th>local_object_num</th>\n      <th>korpus_num</th>\n      <th>stroenie_num</th>\n      <th>adm_area</th>\n      <th>district</th>\n      <th>num_addr_register</th>\n      <th>date_addr_register</th>\n      <th>guid_fias</th>\n      <th>date_fias</th>\n      <th>kad_n</th>\n      <th>kad_zu</th>\n      <th>kladr_code</th>\n      <th>addr_status</th>\n      <th>geodata</th>\n      <th>lat</th>\n      <th>lon</th>\n      <th>object_id</th>\n      <th>address_gis</th>\n      <th>address_gis_code</th>\n      <th>oktmo_code</th>\n      <th>management_method</th>\n      <th>management_ogrn</th>\n      <th>management_kpp</th>\n      <th>management_name</th>\n      <th>house_type</th>\n      <th>condition</th>\n      <th>total_area</th>\n      <th>living_area</th>\n      <th>demolition_date</th>\n      <th>cadastral_num</th>\n      <th>guid_house</th>\n      <th>population</th>\n    </tr>\n  </thead>\n  <tbody>\n    <tr>\n      <th>0</th>\n      <td>многоквартирный дом</td>\n      <td>да</td>\n      <td>Российская Федерация, город Москва, внутригоро...</td>\n      <td>улица Бахрушина, дом 10, строение 3</td>\n      <td>улица Бахрушина</td>\n      <td>дом</td>\n      <td>10</td>\n      <td>None</td>\n      <td>3</td>\n      <td>Центральный административный округ</td>\n      <td>муниципальный округ Замоскворечье</td>\n      <td>1001314</td>\n      <td>24.05.2002</td>\n      <td>FFBC94D2-7371-426A-9AAA-2F606FD1BE86</td>\n      <td>24.11.2011</td>\n      <td>77:01:0002012:1017</td>\n      <td>None</td>\n      <td>77000000000081800</td>\n      <td>Внесён в ГКН</td>\n      <td>{{37.6347869776043,55.735330239525},{37.634592...</td>\n      <td>55.735592</td>\n      <td>37.634462</td>\n      <td>a1b50bfc376ea37edebd16ddd131b106bf8d8c846983a9...</td>\n      <td>115054, Москва г, ул. Бахрушина, д. 10, строен...</td>\n      <td>ffbc94d2-7371-426a-9aaa-2f606fd1be86</td>\n      <td>45376000</td>\n      <td>УО</td>\n      <td>5137746116646</td>\n      <td>770501001</td>\n      <td>ГОСУДАРСТВЕННОЕ БЮДЖЕТНОЕ УЧРЕЖДЕНИЕ ГОРОДА МО...</td>\n      <td>Многоквартирный</td>\n      <td>Исправный</td>\n      <td>2184.3</td>\n      <td>2099.5</td>\n      <td>None</td>\n      <td>None</td>\n      <td>22e4df6f-c568-4b7d-b119-cdb90deddf1c</td>\n      <td>99.286364</td>\n    </tr>\n    <tr>\n      <th>1</th>\n      <td>многоквартирный дом</td>\n      <td>да</td>\n      <td>Российская Федерация, город Москва, внутригоро...</td>\n      <td>улица Артамонова, дом 8, корпус 2</td>\n      <td>улица Артамонова</td>\n      <td>дом</td>\n      <td>8</td>\n      <td>2</td>\n      <td>None</td>\n      <td>Западный административный округ</td>\n      <td>муниципальный округ Фили-Давыдково</td>\n      <td>7103698</td>\n      <td>24.12.2003</td>\n      <td>0DA29A7F-E80F-415A-8C73-4C780014EA98</td>\n      <td>27.02.2012</td>\n      <td>77:07:0009003:1020</td>\n      <td>None</td>\n      <td>77000000000076700</td>\n      <td>Внесён в ГКН</td>\n      <td>{{37.4572289466062,55.720043356036},{37.456852...</td>\n      <td>55.720403</td>\n      <td>37.457119</td>\n      <td>9a11acf2996873fc758e8f2454f47250bd5239153c8dc8...</td>\n      <td>121357, Москва г, ул. Артамонова, д. 8, корп. 2</td>\n      <td>0da29a7f-e80f-415a-8c73-4c780014ea98</td>\n      <td>45329000</td>\n      <td>УО</td>\n      <td>1157746682610</td>\n      <td>773101001</td>\n      <td>ГОСУДАРСТВЕННОЕ БЮДЖЕТНОЕ УЧРЕЖДЕНИЕ ГОРОДА МО...</td>\n      <td>Многоквартирный</td>\n      <td>Исправный</td>\n      <td>3187.0</td>\n      <td>NaN</td>\n      <td>None</td>\n      <td>None</td>\n      <td>769ca40a-b4a8-4991-9a51-42117cfddd44</td>\n      <td>144.863636</td>\n    </tr>\n  </tbody>\n</table>\n</div>"
     },
     "metadata": {},
     "execution_count": 41
    }
   ],
   "source": [
    "df.head(2)"
   ]
  },
  {
   "cell_type": "code",
   "execution_count": 43,
   "metadata": {},
   "outputs": [],
   "source": [
    "def find_degreee_to_distance(df):\n",
    "    \"Функция, которая возвращает чему равен 1 градус по широте и долготе в градусах\"\n",
    "    lat_min = df.lat.min()\n",
    "    lat_max = df.lat.max()\n",
    "    lon_min = df.lon.min()\n",
    "    lon_max = df.lon.max()\n",
    "    lat_length= haversine(lat_min, lon_min, lat_max, lon_min)\n",
    "    lon_length= haversine(lat_min, lon_min, lat_min, lon_max)\n",
    "    lat_km = lat_length/1000/(lat_max-lat_min)\n",
    "    lon_km = lon_length/1000/(lon_max-lon_min)\n",
    "    print(f'latitude 1 degree = {lat_km} km', f'longitude 1 degree = {lon_km} km') \n",
    "\n",
    "    return lat_km, lon_km"
   ]
  },
  {
   "cell_type": "code",
   "execution_count": 45,
   "metadata": {},
   "outputs": [
    {
     "output_type": "stream",
     "name": "stdout",
     "text": [
      "latitude 1 degree = 111.06521377455095 km longitude 1 degree = 62.91680428045886 km\n"
     ]
    }
   ],
   "source": [
    "lat_km, lon_km = find_degreee_to_distance(df)\n",
    "DISTANCE_TO_DEGREE = {'lat': 1/lat_km, 'lon': 1/lon_km}"
   ]
  },
  {
   "cell_type": "code",
   "execution_count": 46,
   "metadata": {},
   "outputs": [],
   "source": [
    "def make_net_with_center_mass(df_homes, step, distance_to_degree):\n",
    "    \"\"\"\n",
    "    Функция, которая накладывает объекты (дома) на сетку и в каждой ячейке считает центр масс\n",
    "    В df_homes обязаны быть поля population, lat, lon\n",
    "\n",
    "    \"\"\"\n",
    "    df = df_homes.copy()\n",
    "    df.columns = [column.lower() for column in df.columns]\n",
    "    \n",
    "    step_lon = step * distance_to_degree['lon']\n",
    "    step_lat = step * distance_to_degree['lat']\n",
    "\n",
    "    df['lat_n'] = df.lat // step_lat\n",
    "    df['lon_n'] = df.lon // step_lon\n",
    "    df['lat_n'] = df['lat_n'].astype('int')\n",
    "    df['lon_n'] = df['lon_n'].astype('int')\n",
    "    df['lat_n_lon_n'] = df['lat_n'].astype('str') + '_' + df['lon_n'].astype('str')\n",
    "    df['step'] = step\n",
    "\n",
    "    df['id_center_mass'] = df['lat_n_lon_n'] + '_' + df['step'].astype(str)\n",
    "\n",
    "    df['lat_population'] = df['lat']*df['population']\n",
    "    df['lon_population'] = df['lon']*df['population']\n",
    "    df_agg = df.groupby(['id_center_mass']).agg({'population':'sum','lat_population':'sum','lon_population':'sum'}).reset_index().rename({'population':'sum_population'}, axis=1)\n",
    "\n",
    "    df_agg['lat'] = df_agg['lat_population']/df_agg['sum_population']\n",
    "    df_agg['lon'] = df_agg['lon_population']/df_agg['sum_population']\n",
    "    df_agg['population'] = df_agg['sum_population']\n",
    "    df_agg = df_agg[['id_center_mass','lat','lon','population']]\n",
    "    df_agg['step'] = step\n",
    "\n",
    "    return df_agg"
   ]
  },
  {
   "cell_type": "code",
   "execution_count": 60,
   "metadata": {},
   "outputs": [],
   "source": [
    "step = 0.1\n",
    "df_result_01 = make_net_with_center_mass(df, step)"
   ]
  },
  {
   "cell_type": "code",
   "execution_count": 61,
   "metadata": {},
   "outputs": [],
   "source": [
    "step = 0.5\n",
    "df_result_05 = make_net_with_center_mass(df, step)"
   ]
  },
  {
   "cell_type": "code",
   "execution_count": 62,
   "metadata": {},
   "outputs": [],
   "source": [
    "step = 1\n",
    "df_result_1 = make_net_with_center_mass(df, step)"
   ]
  },
  {
   "cell_type": "code",
   "execution_count": 63,
   "metadata": {},
   "outputs": [],
   "source": [
    "step = 2\n",
    "df_result_2 = make_net_with_center_mass(df, step)"
   ]
  },
  {
   "cell_type": "code",
   "execution_count": 64,
   "metadata": {},
   "outputs": [],
   "source": [
    "df_result = pd.concat([df_result_01, df_result_05, df_result_1, df_result_2])"
   ]
  },
  {
   "cell_type": "code",
   "execution_count": 53,
   "metadata": {},
   "outputs": [
    {
     "output_type": "execute_result",
     "data": {
      "text/plain": [
       "    id_center_mass        lat        lon  population  step\n",
       "0  61634_23649_0.1  55.494308  37.588680   27.136364   0.1\n",
       "1  61635_23649_0.1  55.495040  37.587754    3.436364   0.1\n",
       "2  61635_23650_0.1  55.494963  37.589354    7.436364   0.1\n",
       "3  61635_23651_0.1  55.494637  37.591560    2.818182   0.1\n",
       "4  61636_23649_0.1  55.496060  37.589255    2.104545   0.1"
      ],
      "text/html": "<div>\n<style scoped>\n    .dataframe tbody tr th:only-of-type {\n        vertical-align: middle;\n    }\n\n    .dataframe tbody tr th {\n        vertical-align: top;\n    }\n\n    .dataframe thead th {\n        text-align: right;\n    }\n</style>\n<table border=\"1\" class=\"dataframe\">\n  <thead>\n    <tr style=\"text-align: right;\">\n      <th></th>\n      <th>id_center_mass</th>\n      <th>lat</th>\n      <th>lon</th>\n      <th>population</th>\n      <th>step</th>\n    </tr>\n  </thead>\n  <tbody>\n    <tr>\n      <th>0</th>\n      <td>61634_23649_0.1</td>\n      <td>55.494308</td>\n      <td>37.588680</td>\n      <td>27.136364</td>\n      <td>0.1</td>\n    </tr>\n    <tr>\n      <th>1</th>\n      <td>61635_23649_0.1</td>\n      <td>55.495040</td>\n      <td>37.587754</td>\n      <td>3.436364</td>\n      <td>0.1</td>\n    </tr>\n    <tr>\n      <th>2</th>\n      <td>61635_23650_0.1</td>\n      <td>55.494963</td>\n      <td>37.589354</td>\n      <td>7.436364</td>\n      <td>0.1</td>\n    </tr>\n    <tr>\n      <th>3</th>\n      <td>61635_23651_0.1</td>\n      <td>55.494637</td>\n      <td>37.591560</td>\n      <td>2.818182</td>\n      <td>0.1</td>\n    </tr>\n    <tr>\n      <th>4</th>\n      <td>61636_23649_0.1</td>\n      <td>55.496060</td>\n      <td>37.589255</td>\n      <td>2.104545</td>\n      <td>0.1</td>\n    </tr>\n  </tbody>\n</table>\n</div>"
     },
     "metadata": {},
     "execution_count": 53
    }
   ],
   "source": [
    "df_result.head()"
   ]
  },
  {
   "cell_type": "code",
   "execution_count": 66,
   "metadata": {},
   "outputs": [],
   "source": [
    "db.load_to_bd(df_result, 'centers_mass')"
   ]
  },
  {
   "source": [
    "Ниже кусок кода для итогового общего ETL скрипта"
   ],
   "cell_type": "markdown",
   "metadata": {}
  },
  {
   "cell_type": "code",
   "execution_count": 10,
   "metadata": {},
   "outputs": [],
   "source": [
    "def find_degreee_to_distance(df):\n",
    "    \"Функция, которая возвращает чему равен 1 градус по широте и долготе в градусах\"\n",
    "    lat_min = df.lat.min()\n",
    "    lat_max = df.lat.max()\n",
    "    lon_min = df.lon.min()\n",
    "    lon_max = df.lon.max()\n",
    "    lat_length= haversine(lat_min, lon_min, lat_max, lon_min)\n",
    "    lon_length= haversine(lat_min, lon_min, lat_min, lon_max)\n",
    "    lat_km = lat_length/1000/(lat_max-lat_min)\n",
    "    lon_km = lon_length/1000/(lon_max-lon_min)\n",
    "    print(f'latitude 1 degree = {lat_km} km', f'longitude 1 degree = {lon_km} km') \n",
    "\n",
    "    return lat_km, lon_km\n",
    "\n",
    "def make_net_with_center_mass(df_homes, step, distance_to_degree):\n",
    "    \"\"\"\n",
    "    Функция, которая накладывает объекты (дома) на имеющуюся сетку и в каждой ячейке считает центр масс\n",
    "    В df_homes обязаны быть поля population, lat, lon\n",
    "\n",
    "    \"\"\"\n",
    "    df = df_homes.copy()\n",
    "    df.columns = [column.lower() for column in df.columns]\n",
    "    \n",
    "    step_lon = step * distance_to_degree['lon']\n",
    "    step_lat = step * distance_to_degree['lat']\n",
    "\n",
    "    df['lat_n'] = df.lat // step_lat\n",
    "    df['lon_n'] = df.lon // step_lon\n",
    "    df['lat_n'] = df['lat_n'].astype('int')\n",
    "    df['lon_n'] = df['lon_n'].astype('int')\n",
    "    df['lat_n_lon_n'] = df['lat_n'].astype('str') + '_' + df['lon_n'].astype('str')\n",
    "    df['step'] = step\n",
    "\n",
    "    df['id_center_mass'] = df['lat_n_lon_n'] + '_' + df['step'].astype(str)\n",
    "\n",
    "    df['lat_population'] = df['lat']*df['population']\n",
    "    df['lon_population'] = df['lon']*df['population']\n",
    "    df_agg = df.groupby(['id_center_mass']).agg({'population':'sum','lat_population':'sum','lon_population':'sum'}).reset_index().rename({'population':'sum_population'}, axis=1)\n",
    "\n",
    "    df_agg['lat'] = df_agg['lat_population']/df_agg['sum_population']\n",
    "    df_agg['lon'] = df_agg['lon_population']/df_agg['sum_population']\n",
    "    df_agg['population'] = df_agg['sum_population']\n",
    "    df_agg = df_agg[['id_center_mass','lat','lon','population']]\n",
    "    df_agg['step'] = step\n",
    "\n",
    "    return df_agg\n",
    "\n",
    "\n",
    "LIST_STEP = [0.1, 0.5, 1, 2] # список размеров величины шага в км в сетке, которую мы накладываем на дома\n",
    "\n",
    "def make_final_table_with_center_mass(db):\n",
    "    df = db.get_table_from_bd('apartment_houses_all_data')\n",
    "    df['population'] = df['total_area']/22 #temporary\n",
    "\n",
    "    lat_km, lon_km = find_degreee_to_distance(df)\n",
    "    DISTANCE_TO_DEGREE = {'lat': 1/lat_km, 'lon': 1/lon_km}\n",
    "    df_result = pd.DataFrame()\n",
    "    for step in LIST_STEP:\n",
    "        df_result_step = make_net_with_center_mass(df, step, DISTANCE_TO_DEGREE)\n",
    "        df_result = pd.concat([df_result_step,df_result])\n",
    "    db.load_to_bd(df_result, 'centers_mass')\n"
   ]
  },
  {
   "cell_type": "code",
   "execution_count": 11,
   "metadata": {},
   "outputs": [
    {
     "output_type": "stream",
     "name": "stdout",
     "text": [
      "Connection to PostgreSQL DB successful\n",
      "/Users/marina/Documents/my_projects/hackathon_postomat/postomat_optimisation/src/postamats/utils/connections.py:75: UserWarning: pandas only supports SQLAlchemy connectable (engine/connection) or database string URI or sqlite3 DBAPI2 connection. Other DBAPI2 objects are not tested. Please consider using SQLAlchemy.\n",
      "  df = pd.read_sql_query(f'select * from {table_name}', connection)\n",
      "latitude 1 degree = 111.06521377455095 km longitude 1 degree = 62.91680428045886 km\n"
     ]
    }
   ],
   "source": [
    "# итоговый вызов функции, чтобы получить сетку с центрами масс\n",
    "make_final_table_with_center_mass(db)"
   ]
  }
 ]
}