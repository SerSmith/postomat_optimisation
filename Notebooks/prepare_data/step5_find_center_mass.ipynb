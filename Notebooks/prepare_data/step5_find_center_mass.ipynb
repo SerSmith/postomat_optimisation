{
 "cells": [
  {
   "cell_type": "markdown",
   "metadata": {},
   "source": [
    "## Найдем сетку по домам с центрами масс"
   ]
  },
  {
   "cell_type": "markdown",
   "metadata": {},
   "source": [
    "У нас много домов и некоторые расчеты могут происходить долго, поэтому построим сетку с разным шагом (100 метров, 500 метров, 1 км, 2 км) на которую мы наложим дома с населением, посчитав в каждой ячейке центр масс. Делаем это, чтобы уменьшить объем данных для ускорения работы алгоритмов"
   ]
  },
  {
   "cell_type": "code",
   "execution_count": 1,
   "metadata": {},
   "outputs": [],
   "source": [
    "import os\n",
    "import json\n",
    "import pandas as pd\n",
    "import numpy as np\n",
    "import sys\n",
    "\n",
    "from postamats.utils.connections import DB, PATH_TO_ROOT\n",
    "from postamats.utils.helpers import haversine, find_degreee_to_distance, make_net_with_center_mass\n",
    "\n",
    "from postamats.global_constants import APARTMENT_HOUSES_NAME, CENTER_MASS_NAME, LIST_STEP\n",
    "\n",
    "pd.set_option('display.max_columns', None)"
   ]
  },
  {
   "cell_type": "code",
   "execution_count": 2,
   "metadata": {},
   "outputs": [],
   "source": [
    "CONFIG_PATH = os.path.join(PATH_TO_ROOT, 'db_config.json')\n",
    "with open(CONFIG_PATH) as f:\n",
    "    db_config = json.load(f)\n",
    "\n",
    "db = DB(db_config)"
   ]
  },
  {
   "cell_type": "code",
   "execution_count": 3,
   "metadata": {},
   "outputs": [
    {
     "name": "stdout",
     "output_type": "stream",
     "text": [
      "Connection to PostgreSQL DB successful\n"
     ]
    },
    {
     "name": "stderr",
     "output_type": "stream",
     "text": [
      "/Users/affernus/PROJECTS/hacks/postomat_optimisation/src/postamats/utils/connections.py:96: UserWarning: pandas only supports SQLAlchemy connectable (engine/connection) or database string URI or sqlite3 DBAPI2 connection. Other DBAPI2 objects are not tested. Please consider using SQLAlchemy.\n",
      "  df = pd.read_sql_query(query, connection)\n"
     ]
    }
   ],
   "source": [
    "df = db.get_table_from_bd(APARTMENT_HOUSES_NAME)"
   ]
  },
  {
   "cell_type": "code",
   "execution_count": 4,
   "metadata": {},
   "outputs": [
    {
     "data": {
      "text/html": [
       "<div>\n",
       "<style scoped>\n",
       "    .dataframe tbody tr th:only-of-type {\n",
       "        vertical-align: middle;\n",
       "    }\n",
       "\n",
       "    .dataframe tbody tr th {\n",
       "        vertical-align: top;\n",
       "    }\n",
       "\n",
       "    .dataframe thead th {\n",
       "        text-align: right;\n",
       "    }\n",
       "</style>\n",
       "<table border=\"1\" class=\"dataframe\">\n",
       "  <thead>\n",
       "    <tr style=\"text-align: right;\">\n",
       "      <th></th>\n",
       "      <th>category</th>\n",
       "      <th>on_moscow_territory</th>\n",
       "      <th>address</th>\n",
       "      <th>simple_address</th>\n",
       "      <th>street</th>\n",
       "      <th>local_object_type</th>\n",
       "      <th>local_object_num</th>\n",
       "      <th>korpus_num</th>\n",
       "      <th>stroenie_num</th>\n",
       "      <th>adm_area</th>\n",
       "      <th>district</th>\n",
       "      <th>num_addr_register</th>\n",
       "      <th>date_addr_register</th>\n",
       "      <th>guid_fias</th>\n",
       "      <th>date_fias</th>\n",
       "      <th>kad_n</th>\n",
       "      <th>kad_zu</th>\n",
       "      <th>kladr_code</th>\n",
       "      <th>addr_status</th>\n",
       "      <th>geodata</th>\n",
       "      <th>lat</th>\n",
       "      <th>lon</th>\n",
       "      <th>object_id</th>\n",
       "      <th>address_gis</th>\n",
       "      <th>address_code_gis</th>\n",
       "      <th>guid_fias_gis</th>\n",
       "      <th>oktmo_code_gis</th>\n",
       "      <th>management_method_gis</th>\n",
       "      <th>management_ogrn_gis</th>\n",
       "      <th>management_kpp_gis</th>\n",
       "      <th>management_name_gis</th>\n",
       "      <th>house_type_gis</th>\n",
       "      <th>condition_gis</th>\n",
       "      <th>total_area_gis</th>\n",
       "      <th>living_area_gis</th>\n",
       "      <th>demolition_date_gis</th>\n",
       "      <th>kad_n_gis</th>\n",
       "      <th>guid_house_gis</th>\n",
       "      <th>object_id_gis</th>\n",
       "      <th>object_type</th>\n",
       "      <th>population</th>\n",
       "    </tr>\n",
       "  </thead>\n",
       "  <tbody>\n",
       "    <tr>\n",
       "      <th>0</th>\n",
       "      <td>Здание</td>\n",
       "      <td>да</td>\n",
       "      <td>город Москва, Авиационная улица, дом 65, корпу...</td>\n",
       "      <td>Авиационная улица, дом 65, корпус 3, строение 4</td>\n",
       "      <td>Авиационная улица</td>\n",
       "      <td>дом</td>\n",
       "      <td>65</td>\n",
       "      <td>3</td>\n",
       "      <td>4</td>\n",
       "      <td>Северо-Западный административный округ</td>\n",
       "      <td>муниципальный округ Щукино</td>\n",
       "      <td>8008022</td>\n",
       "      <td>21.09.2006</td>\n",
       "      <td>9E6647F0-DC35-4A33-83DA-24405F5D439C</td>\n",
       "      <td>23.05.2013</td>\n",
       "      <td>77:08:0000000:2781</td>\n",
       "      <td>77:08:0009004:6867</td>\n",
       "      <td>77000000000071200</td>\n",
       "      <td>Внесён в ГКН</td>\n",
       "      <td>{{37.4539473334854,55.8078787837879},{37.45407...</td>\n",
       "      <td>55.807827</td>\n",
       "      <td>37.453977</td>\n",
       "      <td>c7ad8391b30a404697edcfdea4ba10fa7ea552b4e09269...</td>\n",
       "      <td>123182, Москва г, ул. Авиационная, д. 65, корп. 3</td>\n",
       "      <td>a00cecf4-a88d-4156-98a1-9157dec5bde1</td>\n",
       "      <td>A00CECF4-A88D-4156-98A1-9157DEC5BDE1</td>\n",
       "      <td>45372000</td>\n",
       "      <td>УО</td>\n",
       "      <td>5137746235611</td>\n",
       "      <td>773401001</td>\n",
       "      <td>ГОСУДАРСТВЕННОЕ БЮДЖЕТНОЕ УЧРЕЖДЕНИЕ ГОРОДА МО...</td>\n",
       "      <td>Многоквартирный</td>\n",
       "      <td>Исправный</td>\n",
       "      <td>46.8</td>\n",
       "      <td>3597.4</td>\n",
       "      <td>None</td>\n",
       "      <td>77:08:0000000:2781</td>\n",
       "      <td>40f56ef2-aa05-41a5-aade-9da3f090b996</td>\n",
       "      <td>4dfa8a03e8ee627671fbf571901abf381776a9839fd715...</td>\n",
       "      <td>многоквартирный дом</td>\n",
       "      <td>1.640880</td>\n",
       "    </tr>\n",
       "    <tr>\n",
       "      <th>1</th>\n",
       "      <td>Здание</td>\n",
       "      <td>да</td>\n",
       "      <td>Российская Федерация, город Москва, внутригоро...</td>\n",
       "      <td>улица Мусы Джалиля, дом 16, корпус 2, строение 2</td>\n",
       "      <td>улица Мусы Джалиля</td>\n",
       "      <td>дом</td>\n",
       "      <td>16</td>\n",
       "      <td>2</td>\n",
       "      <td>2</td>\n",
       "      <td>Южный административный округ</td>\n",
       "      <td>муниципальный округ Зябликово</td>\n",
       "      <td>5006518</td>\n",
       "      <td>18.11.2003</td>\n",
       "      <td>86BC76E7-A676-4B69-A66D-839A3F37A733</td>\n",
       "      <td>24.11.2011</td>\n",
       "      <td>77:05:0012001:1093</td>\n",
       "      <td>77:05:0012001:1011</td>\n",
       "      <td>77000000000048000</td>\n",
       "      <td>Внесён в ГКН</td>\n",
       "      <td>{{37.7392150814377,55.6235062851872},{37.73921...</td>\n",
       "      <td>55.623560</td>\n",
       "      <td>37.739392</td>\n",
       "      <td>7b9adf96d39c350de4fdf992f1ff2e497b1f8f5838cd9f...</td>\n",
       "      <td>115573, Москва г, ул. Мусы Джалиля, д. 16, кор...</td>\n",
       "      <td>275e370b-1719-4150-8727-d85060951270</td>\n",
       "      <td>275E370B-1719-4150-8727-D85060951270</td>\n",
       "      <td>45916000</td>\n",
       "      <td>УО</td>\n",
       "      <td>1157746524231</td>\n",
       "      <td>772401001</td>\n",
       "      <td>ГОСУДАРСТВЕННОЕ БЮДЖЕТНОЕ УЧРЕЖДЕНИЕ ГОРОДА МО...</td>\n",
       "      <td>Многоквартирный</td>\n",
       "      <td>Исправный</td>\n",
       "      <td>261.0</td>\n",
       "      <td>7225.0</td>\n",
       "      <td>None</td>\n",
       "      <td>77:05:0012001:1093</td>\n",
       "      <td>4fb6a145-0e38-4933-8659-55aa9ddc9522</td>\n",
       "      <td>4eefe3d848079234315dbddcdcc9aa458b3f8f42adfc4f...</td>\n",
       "      <td>многоквартирный дом</td>\n",
       "      <td>18.310403</td>\n",
       "    </tr>\n",
       "  </tbody>\n",
       "</table>\n",
       "</div>"
      ],
      "text/plain": [
       "  category on_moscow_territory  \\\n",
       "0   Здание                  да   \n",
       "1   Здание                  да   \n",
       "\n",
       "                                             address  \\\n",
       "0  город Москва, Авиационная улица, дом 65, корпу...   \n",
       "1  Российская Федерация, город Москва, внутригоро...   \n",
       "\n",
       "                                     simple_address              street  \\\n",
       "0   Авиационная улица, дом 65, корпус 3, строение 4   Авиационная улица   \n",
       "1  улица Мусы Джалиля, дом 16, корпус 2, строение 2  улица Мусы Джалиля   \n",
       "\n",
       "  local_object_type local_object_num korpus_num stroenie_num  \\\n",
       "0               дом               65          3            4   \n",
       "1               дом               16          2            2   \n",
       "\n",
       "                                 adm_area                       district  \\\n",
       "0  Северо-Западный административный округ     муниципальный округ Щукино   \n",
       "1            Южный административный округ  муниципальный округ Зябликово   \n",
       "\n",
       "  num_addr_register date_addr_register                             guid_fias  \\\n",
       "0           8008022         21.09.2006  9E6647F0-DC35-4A33-83DA-24405F5D439C   \n",
       "1           5006518         18.11.2003  86BC76E7-A676-4B69-A66D-839A3F37A733   \n",
       "\n",
       "    date_fias               kad_n              kad_zu         kladr_code  \\\n",
       "0  23.05.2013  77:08:0000000:2781  77:08:0009004:6867  77000000000071200   \n",
       "1  24.11.2011  77:05:0012001:1093  77:05:0012001:1011  77000000000048000   \n",
       "\n",
       "    addr_status                                            geodata        lat  \\\n",
       "0  Внесён в ГКН  {{37.4539473334854,55.8078787837879},{37.45407...  55.807827   \n",
       "1  Внесён в ГКН  {{37.7392150814377,55.6235062851872},{37.73921...  55.623560   \n",
       "\n",
       "         lon                                          object_id  \\\n",
       "0  37.453977  c7ad8391b30a404697edcfdea4ba10fa7ea552b4e09269...   \n",
       "1  37.739392  7b9adf96d39c350de4fdf992f1ff2e497b1f8f5838cd9f...   \n",
       "\n",
       "                                         address_gis  \\\n",
       "0  123182, Москва г, ул. Авиационная, д. 65, корп. 3   \n",
       "1  115573, Москва г, ул. Мусы Джалиля, д. 16, кор...   \n",
       "\n",
       "                       address_code_gis                         guid_fias_gis  \\\n",
       "0  a00cecf4-a88d-4156-98a1-9157dec5bde1  A00CECF4-A88D-4156-98A1-9157DEC5BDE1   \n",
       "1  275e370b-1719-4150-8727-d85060951270  275E370B-1719-4150-8727-D85060951270   \n",
       "\n",
       "  oktmo_code_gis management_method_gis management_ogrn_gis management_kpp_gis  \\\n",
       "0       45372000                    УО       5137746235611          773401001   \n",
       "1       45916000                    УО       1157746524231          772401001   \n",
       "\n",
       "                                 management_name_gis   house_type_gis  \\\n",
       "0  ГОСУДАРСТВЕННОЕ БЮДЖЕТНОЕ УЧРЕЖДЕНИЕ ГОРОДА МО...  Многоквартирный   \n",
       "1  ГОСУДАРСТВЕННОЕ БЮДЖЕТНОЕ УЧРЕЖДЕНИЕ ГОРОДА МО...  Многоквартирный   \n",
       "\n",
       "  condition_gis  total_area_gis  living_area_gis demolition_date_gis  \\\n",
       "0     Исправный            46.8           3597.4                None   \n",
       "1     Исправный           261.0           7225.0                None   \n",
       "\n",
       "            kad_n_gis                        guid_house_gis  \\\n",
       "0  77:08:0000000:2781  40f56ef2-aa05-41a5-aade-9da3f090b996   \n",
       "1  77:05:0012001:1093  4fb6a145-0e38-4933-8659-55aa9ddc9522   \n",
       "\n",
       "                                       object_id_gis          object_type  \\\n",
       "0  4dfa8a03e8ee627671fbf571901abf381776a9839fd715...  многоквартирный дом   \n",
       "1  4eefe3d848079234315dbddcdcc9aa458b3f8f42adfc4f...  многоквартирный дом   \n",
       "\n",
       "   population  \n",
       "0    1.640880  \n",
       "1   18.310403  "
      ]
     },
     "execution_count": 4,
     "metadata": {},
     "output_type": "execute_result"
    }
   ],
   "source": [
    "df.head(2)"
   ]
  },
  {
   "cell_type": "code",
   "execution_count": 5,
   "metadata": {},
   "outputs": [
    {
     "name": "stdout",
     "output_type": "stream",
     "text": [
      "latitude 1 degree = 111.06521377455095 km longitude 1 degree = 62.91680428045886 km\n"
     ]
    }
   ],
   "source": [
    "lat_km, lon_km = find_degreee_to_distance(df)\n",
    "DISTANCE_TO_DEGREE = {'lat': 1/lat_km, 'lon': 1/lon_km}"
   ]
  },
  {
   "cell_type": "code",
   "execution_count": 6,
   "metadata": {},
   "outputs": [
    {
     "ename": "TypeError",
     "evalue": "make_net_with_center_mass() missing 1 required positional argument: 'distance_to_degree'",
     "output_type": "error",
     "traceback": [
      "\u001b[0;31m---------------------------------------------------------------------------\u001b[0m",
      "\u001b[0;31mTypeError\u001b[0m                                 Traceback (most recent call last)",
      "Cell \u001b[0;32mIn [6], line 2\u001b[0m\n\u001b[1;32m      1\u001b[0m step \u001b[39m=\u001b[39m \u001b[39m0.1\u001b[39m\n\u001b[0;32m----> 2\u001b[0m df_result_01 \u001b[39m=\u001b[39m make_net_with_center_mass(df, step)\n",
      "\u001b[0;31mTypeError\u001b[0m: make_net_with_center_mass() missing 1 required positional argument: 'distance_to_degree'"
     ]
    }
   ],
   "source": [
    "step = 0.1\n",
    "df_result_01 = make_net_with_center_mass(df, step, DISTANCE_TO_DEGREE)"
   ]
  },
  {
   "cell_type": "code",
   "execution_count": null,
   "metadata": {},
   "outputs": [],
   "source": [
    "step = 0.5\n",
    "df_result_05 = make_net_with_center_mass(df, step, DISTANCE_TO_DEGREE)"
   ]
  },
  {
   "cell_type": "code",
   "execution_count": null,
   "metadata": {},
   "outputs": [],
   "source": [
    "step = 1\n",
    "df_result_1 = make_net_with_center_mass(df, step, DISTANCE_TO_DEGREE)"
   ]
  },
  {
   "cell_type": "code",
   "execution_count": null,
   "metadata": {},
   "outputs": [],
   "source": [
    "step = 2\n",
    "df_result_2 = make_net_with_center_mass(df, step, DISTANCE_TO_DEGREE)"
   ]
  },
  {
   "cell_type": "code",
   "execution_count": null,
   "metadata": {},
   "outputs": [],
   "source": [
    "df_result = pd.concat([df_result_01, df_result_05, df_result_1, df_result_2])"
   ]
  },
  {
   "cell_type": "code",
   "execution_count": null,
   "metadata": {},
   "outputs": [],
   "source": [
    "df_result.head()"
   ]
  },
  {
   "cell_type": "code",
   "execution_count": null,
   "metadata": {},
   "outputs": [],
   "source": [
    "db.load_to_bd(df_result, CENTER_MASS_NAME)"
   ]
  },
  {
   "cell_type": "markdown",
   "metadata": {},
   "source": [
    "Ниже кусок кода для итогового общего ETL скрипта"
   ]
  },
  {
   "cell_type": "code",
   "execution_count": null,
   "metadata": {},
   "outputs": [],
   "source": [
    "def find_degreee_to_distance(df):\n",
    "    \"Функция, которая возвращает чему равен 1 градус по широте и долготе в градусах\"\n",
    "    lat_min = df.lat.min()\n",
    "    lat_max = df.lat.max()\n",
    "    lon_min = df.lon.min()\n",
    "    lon_max = df.lon.max()\n",
    "    lat_length= haversine(lat_min, lon_min, lat_max, lon_min)\n",
    "    lon_length= haversine(lat_min, lon_min, lat_min, lon_max)\n",
    "    lat_km = lat_length/1000/(lat_max-lat_min)\n",
    "    lon_km = lon_length/1000/(lon_max-lon_min)\n",
    "    print(f'latitude 1 degree = {lat_km} km', f'longitude 1 degree = {lon_km} km') \n",
    "\n",
    "    return lat_km, lon_km\n",
    "\n",
    "def make_net_with_center_mass(df_homes, step, distance_to_degree):\n",
    "    \"\"\"\n",
    "    Функция, которая накладывает объекты (дома) на имеющуюся сетку и в каждой ячейке считает центр масс\n",
    "    В df_homes обязаны быть поля population, lat, lon\n",
    "\n",
    "    \"\"\"\n",
    "    df = df_homes.copy()\n",
    "    df.columns = [column.lower() for column in df.columns]\n",
    "    \n",
    "    step_lon = step * distance_to_degree['lon']\n",
    "    step_lat = step * distance_to_degree['lat']\n",
    "\n",
    "    df['lat_n'] = df.lat // step_lat\n",
    "    df['lon_n'] = df.lon // step_lon\n",
    "    df['lat_n'] = df['lat_n'].astype('int')\n",
    "    df['lon_n'] = df['lon_n'].astype('int')\n",
    "    df['lat_n_lon_n'] = df['lat_n'].astype('str') + '_' + df['lon_n'].astype('str')\n",
    "    df['step'] = step\n",
    "\n",
    "    df['id_center_mass'] = df['lat_n_lon_n'] + '_' + df['step'].astype(str)\n",
    "\n",
    "    df['lat_population'] = df['lat']*df['population']\n",
    "    df['lon_population'] = df['lon']*df['population']\n",
    "    df_agg = df.groupby(['id_center_mass']).agg({'population':'sum','lat_population':'sum','lon_population':'sum'}).reset_index().rename({'population':'sum_population'}, axis=1)\n",
    "\n",
    "    df_agg['lat'] = df_agg['lat_population']/df_agg['sum_population']\n",
    "    df_agg['lon'] = df_agg['lon_population']/df_agg['sum_population']\n",
    "    df_agg['population'] = df_agg['sum_population']\n",
    "    df_agg = df_agg[['id_center_mass','lat','lon','population']]\n",
    "    df_agg['step'] = step\n",
    "\n",
    "    return df_agg\n",
    "\n",
    "\n",
    "LIST_STEP = [0.1, 0.5, 1, 2] # список размеров величины шага в км в сетке, которую мы накладываем на дома\n",
    "\n",
    "def make_final_table_with_center_mass(db):\n",
    "    df = db.get_table_from_bd('apartment_houses_all_data')\n",
    "\n",
    "    lat_km, lon_km = find_degreee_to_distance(df)\n",
    "    distance_to_degree = {'lat': 1/lat_km, 'lon': 1/lon_km}\n",
    "    df_result = pd.DataFrame()\n",
    "    for step in LIST_STEP:\n",
    "        df_result_step = make_net_with_center_mass(df, step, distance_to_degree)\n",
    "        df_result = pd.concat([df_result_step,df_result])\n",
    "    db.load_to_bd(df_result, 'centers_mass')\n"
   ]
  },
  {
   "cell_type": "code",
   "execution_count": null,
   "metadata": {},
   "outputs": [],
   "source": [
    "# итоговый вызов функции, чтобы получить сетку с центрами масс\n",
    "make_final_table_with_center_mass(db)"
   ]
  },
  {
   "cell_type": "markdown",
   "metadata": {},
   "source": [
    "Запуск пайплайна в виде класса"
   ]
  },
  {
   "cell_type": "code",
   "execution_count": null,
   "metadata": {},
   "outputs": [],
   "source": [
    "%load_ext autoreload\n",
    "import pandas as pd\n",
    "from postamats.utils import load\n",
    "from postamats.utils.connections import PATH_TO_ROOT\n",
    "\n",
    "pd.set_option('display.max_columns', None)\n",
    "\n",
    "CONFIG_PATH = os.path.join(PATH_TO_ROOT, 'db_config.json')"
   ]
  },
  {
   "cell_type": "code",
   "execution_count": null,
   "metadata": {},
   "outputs": [],
   "source": [
    "mcm = load.MakeCenterMass(CONFIG_PATH)\n",
    "\n",
    "mcm.load_apartment_houses()"
   ]
  },
  {
   "cell_type": "code",
   "execution_count": null,
   "metadata": {},
   "outputs": [],
   "source": [
    "mcm.make_center_mass()"
   ]
  },
  {
   "cell_type": "code",
   "execution_count": null,
   "metadata": {},
   "outputs": [],
   "source": [
    "mcm.get_center_mass()"
   ]
  },
  {
   "cell_type": "code",
   "execution_count": null,
   "metadata": {},
   "outputs": [],
   "source": [
    "mcm.load_to_db()"
   ]
  }
 ],
 "metadata": {
  "kernelspec": {
   "display_name": "Python 3.9.4 64-bit ('ldt394')",
   "language": "python",
   "name": "python3"
  },
  "language_info": {
   "codemirror_mode": {
    "name": "ipython",
    "version": 3
   },
   "file_extension": ".py",
   "mimetype": "text/x-python",
   "name": "python",
   "nbconvert_exporter": "python",
   "pygments_lexer": "ipython3",
   "version": "3.9.4"
  },
  "orig_nbformat": 2,
  "vscode": {
   "interpreter": {
    "hash": "416ff4a8a645b770b77c696377ba1e06dd5c02854843a1a2f9b93263871a68e5"
   }
  }
 },
 "nbformat": 4,
 "nbformat_minor": 2
}
