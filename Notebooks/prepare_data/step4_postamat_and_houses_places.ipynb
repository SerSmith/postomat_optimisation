{
 "cells": [
  {
   "cell_type": "markdown",
   "metadata": {},
   "source": [
    "# Финальная сборка и заливка табличек с данными о потенциальных местах размещения постаматов\n",
    "\n",
    "Потенциальные места размещения:\n",
    "- многоквартирный дом\n",
    "- киоск\n",
    "- МФЦ\n",
    "- библиотека\n",
    "- дом культуры или клуб\n",
    "- cпортивный объект\n",
    "\n",
    "Данные, которые будут лежать в табличках:\n",
    "- Административный округ\n",
    "- Район\n",
    "- Тип объекта размещения\n",
    "- Координата точки размещения\n",
    "- Адрес точки размещения\n",
    "\n",
    "Исходные данные скачиваем в формате json из:\n",
    "- Нестационарные торговые объекты по реализации печатной продукции: https://data.mos.ru/opendata/2781\n",
    "- Нестационарные торговые объекты: https://data.mos.ru/opendata/619\n",
    "- Многофункциональные центры предоставления государственных и муниципальных услуг https://data.mos.ru/opendata/-mnogofunktsionalnye-tsentry-predostavleniya-gosudarstvennyh-uslug\n",
    "- Библиотеки города: https://data.mos.ru/opendata/7702155262-biblioteki\n",
    "- Дома культуры и клубы: https://data.mos.ru/opendata/7702155262-doma-kultury-i-kluby\n",
    "- Спортивные объекты города Москвы: https://data.mos.ru/opendata/7708308010-sportivnye-obekty-goroda-moskvy\n",
    "- данные о жилых домах - из уже залитой в БД <code>apartment_houses_all_data</code>\n",
    "\n",
    "Заливаются таблички:\n",
    "- <code>kiosks_all_data</code>\n",
    "- <code>mfc_all_data</code>\n",
    "- <code>libs_all_data</code>\n",
    "- <code>clubs_all_data</code>\n",
    "- <code>sports_all_data</code>\n",
    "- <code>all_objects_data</code>\n",
    "\n",
    "Перед прогоном тетрадки, если надо обновить <code>apartment_houses_all_data</code>, нужно запустить подготовку данных:\n",
    "- <code>step1_prepare_dmr_houses_data.ipynb</code>\n",
    "- <code>step2_prepare_gis_houses_data.ipynb</code>\n",
    "- <code>step3_apartment_houses_all_data.ipynb</code>"
   ]
  },
  {
   "cell_type": "code",
   "execution_count": 1,
   "metadata": {},
   "outputs": [],
   "source": [
    "%load_ext autoreload\n",
    "import os\n",
    "from typing import List, Dict, Optional\n",
    "from warnings import warn\n",
    "import json\n",
    "import pandas as pd\n",
    "import numpy as np\n",
    "\n",
    "from postamats.utils import prepare_data\n",
    "from postamats.utils.connections import DB\n",
    "from postamats.global_constants import INFRA_GEODATA_COL, INFRA_NEEDED_COLS_BY_OBJECTS, INFRA_TABLES_NAMES_BY_OBJECTS,\\\n",
    "    MANDATORY_COLS, OBJECT_ID_COL, OBJECT_TYPE_COL\n",
    "from postamats.utils.connections import PATH_TO_ROOT\n",
    "\n",
    "pd.set_option('display.max_columns', None)"
   ]
  },
  {
   "cell_type": "code",
   "execution_count": 2,
   "metadata": {},
   "outputs": [],
   "source": [
    "CONFIG_PATH = os.path.join(PATH_TO_ROOT, 'db_config.json')\n",
    "with open(CONFIG_PATH, mode='r') as db_file:\n",
    "    db_config = json.load(db_file)\n",
    "\n",
    "database = DB(db_config)"
   ]
  },
  {
   "cell_type": "code",
   "execution_count": 3,
   "metadata": {},
   "outputs": [],
   "source": [
    "KIOSKS_FOLDER = os.path.join(PATH_TO_ROOT, 'data', 'kiosks')\n",
    "# Нестационарные торговые объекты\n",
    "KIOSKS_FILE_1 = 'data-104108-2022-10-23.json'\n",
    "# Нестационарные торговые объекты по реализации печатной продукции\n",
    "KIOSKS_FILE_2 = 'data-101756-2022-10-25.json'\n",
    "# Многофункциональные центры предоставления государственных и муниципальных услуг \n",
    "MFC_FOLDER = os.path.join(PATH_TO_ROOT, 'data', 'mfc')\n",
    "MFC_FILE = 'data-2728-2022-10-26.json'\n",
    "# Библиотеки\n",
    "LIBS_FOLDER = os.path.join(PATH_TO_ROOT, 'data', 'libs')\n",
    "LIBS_FILE = 'data-7361-2022-10-19.json'\n",
    "# дома культуры и клубы\n",
    "CLUBS_FOLDER = os.path.join(PATH_TO_ROOT, 'data', 'clubs')\n",
    "CLUBS_FILE = 'data-7392-2022-10-27.json'\n",
    "# спортивные объекты\n",
    "SPORTS_FOLDER = os.path.join(PATH_TO_ROOT, 'data', 'sports')\n",
    "SPORTS_FILE = 'data-8303-2022-08-08.json'"
   ]
  },
  {
   "cell_type": "code",
   "execution_count": 4,
   "metadata": {},
   "outputs": [],
   "source": [
    "kiosks1 = pd.read_json(os.path.join(KIOSKS_FOLDER, KIOSKS_FILE_1), encoding='cp1251').dropna(axis=1, how='all')\n",
    "kiosks2 = pd.read_json(os.path.join(KIOSKS_FOLDER, KIOSKS_FILE_2), encoding='cp1251').dropna(axis=1, how='all')\n",
    "kiosks = pd.concat([kiosks1, kiosks2])\n",
    "\n",
    "mfc = pd.read_json(os.path.join(MFC_FOLDER, MFC_FILE), encoding='cp1251').dropna(axis=1, how='all')\n",
    "\n",
    "libs = pd.read_json(os.path.join(LIBS_FOLDER, LIBS_FILE), encoding='cp1251').dropna(axis=1, how='all')\n",
    "\n",
    "clubs = pd.read_json(os.path.join(CLUBS_FOLDER, CLUBS_FILE), encoding='cp1251').dropna(axis=1, how='all')\n",
    "\n",
    "sports = pd.read_json(os.path.join(SPORTS_FOLDER, SPORTS_FILE), encoding='cp1251').dropna(axis=1, how='all')"
   ]
  },
  {
   "cell_type": "code",
   "execution_count": 5,
   "metadata": {},
   "outputs": [
    {
     "name": "stdout",
     "output_type": "stream",
     "text": [
      "киоск\n",
      "prepare_infrastructure_objects started ... \n"
     ]
    },
    {
     "name": "stderr",
     "output_type": "stream",
     "text": [
      "100%|██████████| 2515/2515 [00:00<00:00, 49950.40it/s]\n",
      "  0%|          | 0/2515 [00:00<?, ?it/s]/Users/affernus/PROJECTS/hacks/postomat_optimisation/src/postamats/utils/helpers.py:85: UserWarning: coords is dot\n",
      "  warn('coords is dot')\n",
      "100%|██████████| 2515/2515 [00:00<00:00, 246130.82it/s]\n",
      "100%|██████████| 2515/2515 [00:00<00:00, 115664.02it/s]"
     ]
    },
    {
     "name": "stdout",
     "output_type": "stream",
     "text": [
      "prepare_infrastructure_objects finished\n"
     ]
    },
    {
     "name": "stderr",
     "output_type": "stream",
     "text": [
      "\n"
     ]
    },
    {
     "name": "stdout",
     "output_type": "stream",
     "text": [
      "МФЦ\n",
      "prepare_infrastructure_objects started ... \n"
     ]
    },
    {
     "name": "stderr",
     "output_type": "stream",
     "text": [
      "100%|██████████| 139/139 [00:00<00:00, 46299.89it/s]\n",
      "  0%|          | 0/139 [00:00<?, ?it/s]/Users/affernus/PROJECTS/hacks/postomat_optimisation/src/postamats/utils/helpers.py:85: UserWarning: coords is dot\n",
      "  warn('coords is dot')\n",
      "100%|██████████| 139/139 [00:00<00:00, 141851.16it/s]\n",
      "100%|██████████| 139/139 [00:00<00:00, 73086.15it/s]"
     ]
    },
    {
     "name": "stdout",
     "output_type": "stream",
     "text": [
      "prepare_infrastructure_objects finished\n"
     ]
    },
    {
     "name": "stderr",
     "output_type": "stream",
     "text": [
      "\n"
     ]
    },
    {
     "name": "stdout",
     "output_type": "stream",
     "text": [
      "библиотека\n",
      "prepare_infrastructure_objects started ... \n"
     ]
    },
    {
     "name": "stderr",
     "output_type": "stream",
     "text": [
      "100%|██████████| 270/270 [00:00<00:00, 44392.87it/s]\n",
      "  0%|          | 0/270 [00:00<?, ?it/s]/Users/affernus/PROJECTS/hacks/postomat_optimisation/src/postamats/utils/helpers.py:88: UserWarning: coords is line\n",
      "  warn('coords is line')\n",
      "/Users/affernus/PROJECTS/hacks/postomat_optimisation/src/postamats/utils/helpers.py:85: UserWarning: coords is dot\n",
      "  warn('coords is dot')\n",
      "100%|██████████| 270/270 [00:00<00:00, 28396.74it/s]\n",
      "100%|██████████| 270/270 [00:00<00:00, 91393.92it/s]"
     ]
    },
    {
     "name": "stdout",
     "output_type": "stream",
     "text": [
      "prepare_infrastructure_objects finished\n"
     ]
    },
    {
     "name": "stderr",
     "output_type": "stream",
     "text": [
      "\n"
     ]
    },
    {
     "name": "stdout",
     "output_type": "stream",
     "text": [
      "дом культуры или клуб\n",
      "prepare_infrastructure_objects started ... \n"
     ]
    },
    {
     "name": "stderr",
     "output_type": "stream",
     "text": [
      "100%|██████████| 76/76 [00:00<00:00, 25796.48it/s]\n",
      "  0%|          | 0/76 [00:00<?, ?it/s]/Users/affernus/PROJECTS/hacks/postomat_optimisation/src/postamats/utils/helpers.py:85: UserWarning: coords is dot\n",
      "  warn('coords is dot')\n",
      "/Users/affernus/PROJECTS/hacks/postomat_optimisation/src/postamats/utils/helpers.py:88: UserWarning: coords is line\n",
      "  warn('coords is line')\n",
      "100%|██████████| 76/76 [00:00<00:00, 12404.35it/s]\n",
      "100%|██████████| 76/76 [00:00<00:00, 66313.11it/s]"
     ]
    },
    {
     "name": "stdout",
     "output_type": "stream",
     "text": [
      "prepare_infrastructure_objects finished\n"
     ]
    },
    {
     "name": "stderr",
     "output_type": "stream",
     "text": [
      "\n"
     ]
    },
    {
     "name": "stdout",
     "output_type": "stream",
     "text": [
      "cпортивный объект\n",
      "prepare_infrastructure_objects started ... \n"
     ]
    },
    {
     "name": "stderr",
     "output_type": "stream",
     "text": [
      "100%|██████████| 346/346 [00:00<00:00, 53172.21it/s]\n",
      "  0%|          | 0/346 [00:00<?, ?it/s]/Users/affernus/PROJECTS/hacks/postomat_optimisation/src/postamats/utils/helpers.py:85: UserWarning: coords is dot\n",
      "  warn('coords is dot')\n",
      "100%|██████████| 346/346 [00:00<00:00, 248413.07it/s]\n",
      "100%|██████████| 346/346 [00:00<00:00, 94101.23it/s]"
     ]
    },
    {
     "name": "stdout",
     "output_type": "stream",
     "text": [
      "prepare_infrastructure_objects finished\n"
     ]
    },
    {
     "name": "stderr",
     "output_type": "stream",
     "text": [
      "\n"
     ]
    }
   ],
   "source": [
    "objects_data_map = {\n",
    "    'киоск': kiosks1,\n",
    "    'МФЦ': mfc,\n",
    "    'библиотека': libs,\n",
    "    'дом культуры или клуб': clubs,\n",
    "    'cпортивный объект': sports\n",
    "    }\n",
    "prepared_objects_list = []\n",
    "for obj_type, obj_data in objects_data_map.items():\n",
    "    print(obj_type)\n",
    "    load_to_bd_data = prepare_data.prepare_infrastructure_objects(obj_data,\n",
    "                                                                  INFRA_GEODATA_COL,\n",
    "                                                                  obj_type,\n",
    "                                                                  needed_cols=INFRA_NEEDED_COLS_BY_OBJECTS[obj_type])\n",
    "    prepared_objects_list.append(load_to_bd_data.copy())\n",
    "    database.load_to_bd(load_to_bd_data, INFRA_TABLES_NAMES_BY_OBJECTS[obj_type])"
   ]
  },
  {
   "cell_type": "code",
   "execution_count": 6,
   "metadata": {},
   "outputs": [
    {
     "name": "stdout",
     "output_type": "stream",
     "text": [
      "Connection to PostgreSQL DB successful\n"
     ]
    },
    {
     "name": "stderr",
     "output_type": "stream",
     "text": [
      "/Users/affernus/PROJECTS/hacks/postomat_optimisation/src/postamats/utils/connections.py:88: UserWarning: pandas only supports SQLAlchemy connectable (engine/connection) or database string URI or sqlite3 DBAPI2 connection. Other DBAPI2 objects are not tested. Please consider using SQLAlchemy.\n",
      "  df = pd.read_sql_query(query, connection)\n"
     ]
    }
   ],
   "source": [
    "apartment_houses = database.get_table_from_bd('apartment_houses_all_data')"
   ]
  },
  {
   "cell_type": "code",
   "execution_count": 7,
   "metadata": {},
   "outputs": [],
   "source": [
    "all_objects_data = pd.concat([apartment_houses] + prepared_objects_list, ignore_index=True)\n",
    "all_objects_data = all_objects_data[MANDATORY_COLS].drop_duplicates(subset=[OBJECT_ID_COL])"
   ]
  },
  {
   "cell_type": "code",
   "execution_count": 9,
   "metadata": {},
   "outputs": [
    {
     "data": {
      "text/html": [
       "<div>\n",
       "<style scoped>\n",
       "    .dataframe tbody tr th:only-of-type {\n",
       "        vertical-align: middle;\n",
       "    }\n",
       "\n",
       "    .dataframe tbody tr th {\n",
       "        vertical-align: top;\n",
       "    }\n",
       "\n",
       "    .dataframe thead th {\n",
       "        text-align: right;\n",
       "    }\n",
       "</style>\n",
       "<table border=\"1\" class=\"dataframe\">\n",
       "  <thead>\n",
       "    <tr style=\"text-align: right;\">\n",
       "      <th></th>\n",
       "      <th>object_id</th>\n",
       "      <th>adm_area</th>\n",
       "      <th>district</th>\n",
       "      <th>object_type</th>\n",
       "      <th>lat</th>\n",
       "      <th>lon</th>\n",
       "      <th>address</th>\n",
       "    </tr>\n",
       "  </thead>\n",
       "  <tbody>\n",
       "    <tr>\n",
       "      <th>0</th>\n",
       "      <td>c7ad8391b30a404697edcfdea4ba10fa7ea552b4e09269...</td>\n",
       "      <td>Северо-Западный административный округ</td>\n",
       "      <td>муниципальный округ Щукино</td>\n",
       "      <td>многоквартирный дом</td>\n",
       "      <td>55.807827</td>\n",
       "      <td>37.453977</td>\n",
       "      <td>город Москва, Авиационная улица, дом 65, корпу...</td>\n",
       "    </tr>\n",
       "    <tr>\n",
       "      <th>1</th>\n",
       "      <td>7b9adf96d39c350de4fdf992f1ff2e497b1f8f5838cd9f...</td>\n",
       "      <td>Южный административный округ</td>\n",
       "      <td>муниципальный округ Зябликово</td>\n",
       "      <td>многоквартирный дом</td>\n",
       "      <td>55.623560</td>\n",
       "      <td>37.739392</td>\n",
       "      <td>Российская Федерация, город Москва, внутригоро...</td>\n",
       "    </tr>\n",
       "    <tr>\n",
       "      <th>2</th>\n",
       "      <td>eea53cceda9ab91905922e4fad25b4b146cfb647488f23...</td>\n",
       "      <td>Северо-Восточный административный округ</td>\n",
       "      <td>муниципальный округ Алтуфьевский</td>\n",
       "      <td>многоквартирный дом</td>\n",
       "      <td>55.885641</td>\n",
       "      <td>37.593456</td>\n",
       "      <td>Российская Федерация, город Москва, внутригоро...</td>\n",
       "    </tr>\n",
       "    <tr>\n",
       "      <th>3</th>\n",
       "      <td>9d0f9c193a2b3c86da7b807d19c8884113b0d2421b7155...</td>\n",
       "      <td>Южный административный округ</td>\n",
       "      <td>муниципальный округ Чертаново Северное</td>\n",
       "      <td>многоквартирный дом</td>\n",
       "      <td>55.630294</td>\n",
       "      <td>37.617104</td>\n",
       "      <td>Российская Федерация, город Москва, внутригоро...</td>\n",
       "    </tr>\n",
       "    <tr>\n",
       "      <th>4</th>\n",
       "      <td>e6c1cae0d69e48fc18621c51ffd1fd2b54dbf13c6d38b5...</td>\n",
       "      <td>Восточный административный округ</td>\n",
       "      <td>муниципальный округ Новогиреево</td>\n",
       "      <td>многоквартирный дом</td>\n",
       "      <td>55.742228</td>\n",
       "      <td>37.784629</td>\n",
       "      <td>город Москва, Кусковская улица, дом 29, корпус...</td>\n",
       "    </tr>\n",
       "    <tr>\n",
       "      <th>...</th>\n",
       "      <td>...</td>\n",
       "      <td>...</td>\n",
       "      <td>...</td>\n",
       "      <td>...</td>\n",
       "      <td>...</td>\n",
       "      <td>...</td>\n",
       "      <td>...</td>\n",
       "    </tr>\n",
       "    <tr>\n",
       "      <th>41367</th>\n",
       "      <td>0bd2902029c3d36f6ead25fe181b92b25bd816cdad8a5b...</td>\n",
       "      <td>Зеленоградский административный округ</td>\n",
       "      <td>район Крюково</td>\n",
       "      <td>cпортивный объект</td>\n",
       "      <td>55.974472</td>\n",
       "      <td>37.155215</td>\n",
       "      <td>Российская Федерация, город Москва, внутригоро...</td>\n",
       "    </tr>\n",
       "    <tr>\n",
       "      <th>41368</th>\n",
       "      <td>c350a792c7f85c3a19cceccabbee229e762627670c3d2f...</td>\n",
       "      <td>Зеленоградский административный округ</td>\n",
       "      <td>район Крюково</td>\n",
       "      <td>cпортивный объект</td>\n",
       "      <td>55.962885</td>\n",
       "      <td>37.174221</td>\n",
       "      <td>город Москва, город Зеленоград, проектируемый ...</td>\n",
       "    </tr>\n",
       "    <tr>\n",
       "      <th>41369</th>\n",
       "      <td>703ecf2861165481f798ca73c3b17a3f3d5eabbdbc7b94...</td>\n",
       "      <td>Южный административный округ</td>\n",
       "      <td>район Орехово-Борисово Северное</td>\n",
       "      <td>cпортивный объект</td>\n",
       "      <td>55.614951</td>\n",
       "      <td>37.713617</td>\n",
       "      <td>Российская Федерация, город Москва, внутригоро...</td>\n",
       "    </tr>\n",
       "    <tr>\n",
       "      <th>41370</th>\n",
       "      <td>9a4d692b68af938eeb2710c530c946516dcb39d85a9e62...</td>\n",
       "      <td>Западный административный округ</td>\n",
       "      <td>район Фили-Давыдково</td>\n",
       "      <td>cпортивный объект</td>\n",
       "      <td>55.734761</td>\n",
       "      <td>37.456232</td>\n",
       "      <td>Российская Федерация, город Москва, внутригоро...</td>\n",
       "    </tr>\n",
       "    <tr>\n",
       "      <th>41371</th>\n",
       "      <td>e3954a1c7efddf7f1bf68aaa6afe085044ac28bee7f103...</td>\n",
       "      <td>Юго-Восточный административный округ</td>\n",
       "      <td>район Текстильщики</td>\n",
       "      <td>cпортивный объект</td>\n",
       "      <td>55.708107</td>\n",
       "      <td>37.735709</td>\n",
       "      <td>г. Москва, пр-кт. Волгоградский, дом 46/15, ст...</td>\n",
       "    </tr>\n",
       "  </tbody>\n",
       "</table>\n",
       "<p>41372 rows × 7 columns</p>\n",
       "</div>"
      ],
      "text/plain": [
       "                                               object_id  \\\n",
       "0      c7ad8391b30a404697edcfdea4ba10fa7ea552b4e09269...   \n",
       "1      7b9adf96d39c350de4fdf992f1ff2e497b1f8f5838cd9f...   \n",
       "2      eea53cceda9ab91905922e4fad25b4b146cfb647488f23...   \n",
       "3      9d0f9c193a2b3c86da7b807d19c8884113b0d2421b7155...   \n",
       "4      e6c1cae0d69e48fc18621c51ffd1fd2b54dbf13c6d38b5...   \n",
       "...                                                  ...   \n",
       "41367  0bd2902029c3d36f6ead25fe181b92b25bd816cdad8a5b...   \n",
       "41368  c350a792c7f85c3a19cceccabbee229e762627670c3d2f...   \n",
       "41369  703ecf2861165481f798ca73c3b17a3f3d5eabbdbc7b94...   \n",
       "41370  9a4d692b68af938eeb2710c530c946516dcb39d85a9e62...   \n",
       "41371  e3954a1c7efddf7f1bf68aaa6afe085044ac28bee7f103...   \n",
       "\n",
       "                                      adm_area  \\\n",
       "0       Северо-Западный административный округ   \n",
       "1                 Южный административный округ   \n",
       "2      Северо-Восточный административный округ   \n",
       "3                 Южный административный округ   \n",
       "4             Восточный административный округ   \n",
       "...                                        ...   \n",
       "41367    Зеленоградский административный округ   \n",
       "41368    Зеленоградский административный округ   \n",
       "41369             Южный административный округ   \n",
       "41370          Западный административный округ   \n",
       "41371     Юго-Восточный административный округ   \n",
       "\n",
       "                                     district          object_type        lat  \\\n",
       "0                  муниципальный округ Щукино  многоквартирный дом  55.807827   \n",
       "1               муниципальный округ Зябликово  многоквартирный дом  55.623560   \n",
       "2            муниципальный округ Алтуфьевский  многоквартирный дом  55.885641   \n",
       "3      муниципальный округ Чертаново Северное  многоквартирный дом  55.630294   \n",
       "4             муниципальный округ Новогиреево  многоквартирный дом  55.742228   \n",
       "...                                       ...                  ...        ...   \n",
       "41367                           район Крюково    cпортивный объект  55.974472   \n",
       "41368                           район Крюково    cпортивный объект  55.962885   \n",
       "41369         район Орехово-Борисово Северное    cпортивный объект  55.614951   \n",
       "41370                    район Фили-Давыдково    cпортивный объект  55.734761   \n",
       "41371                      район Текстильщики    cпортивный объект  55.708107   \n",
       "\n",
       "             lon                                            address  \n",
       "0      37.453977  город Москва, Авиационная улица, дом 65, корпу...  \n",
       "1      37.739392  Российская Федерация, город Москва, внутригоро...  \n",
       "2      37.593456  Российская Федерация, город Москва, внутригоро...  \n",
       "3      37.617104  Российская Федерация, город Москва, внутригоро...  \n",
       "4      37.784629  город Москва, Кусковская улица, дом 29, корпус...  \n",
       "...          ...                                                ...  \n",
       "41367  37.155215  Российская Федерация, город Москва, внутригоро...  \n",
       "41368  37.174221  город Москва, город Зеленоград, проектируемый ...  \n",
       "41369  37.713617  Российская Федерация, город Москва, внутригоро...  \n",
       "41370  37.456232  Российская Федерация, город Москва, внутригоро...  \n",
       "41371  37.735709  г. Москва, пр-кт. Волгоградский, дом 46/15, ст...  \n",
       "\n",
       "[41372 rows x 7 columns]"
      ]
     },
     "execution_count": 9,
     "metadata": {},
     "output_type": "execute_result"
    }
   ],
   "source": [
    "all_objects_data"
   ]
  },
  {
   "cell_type": "code",
   "execution_count": 10,
   "metadata": {},
   "outputs": [],
   "source": [
    "assert all_objects_data[OBJECT_ID_COL].duplicated().sum() == 0, f'Дубли: {all_objects_data[OBJECT_ID_COL].duplicated().sum()}'\n",
    "assert all_objects_data[OBJECT_TYPE_COL].unique().shape[0] == 6, f'Типы: {all_objects_data[OBJECT_TYPE_COL].unique().shape[0]}'"
   ]
  },
  {
   "cell_type": "code",
   "execution_count": 11,
   "metadata": {},
   "outputs": [
    {
     "name": "stdout",
     "output_type": "stream",
     "text": [
      "Connection to PostgreSQL DB successful\n"
     ]
    },
    {
     "name": "stderr",
     "output_type": "stream",
     "text": [
      "/Users/affernus/PROJECTS/hacks/postomat_optimisation/src/postamats/utils/connections.py:88: UserWarning: pandas only supports SQLAlchemy connectable (engine/connection) or database string URI or sqlite3 DBAPI2 connection. Other DBAPI2 objects are not tested. Please consider using SQLAlchemy.\n",
      "  df = pd.read_sql_query(query, connection)\n"
     ]
    },
    {
     "data": {
      "text/html": [
       "<div>\n",
       "<style scoped>\n",
       "    .dataframe tbody tr th:only-of-type {\n",
       "        vertical-align: middle;\n",
       "    }\n",
       "\n",
       "    .dataframe tbody tr th {\n",
       "        vertical-align: top;\n",
       "    }\n",
       "\n",
       "    .dataframe thead th {\n",
       "        text-align: right;\n",
       "    }\n",
       "</style>\n",
       "<table border=\"1\" class=\"dataframe\">\n",
       "  <thead>\n",
       "    <tr style=\"text-align: right;\">\n",
       "      <th></th>\n",
       "      <th>object_id</th>\n",
       "      <th>adm_area</th>\n",
       "      <th>district</th>\n",
       "      <th>object_type</th>\n",
       "      <th>lat</th>\n",
       "      <th>lon</th>\n",
       "      <th>address</th>\n",
       "    </tr>\n",
       "  </thead>\n",
       "  <tbody>\n",
       "    <tr>\n",
       "      <th>0</th>\n",
       "      <td>c7ad8391b30a404697edcfdea4ba10fa7ea552b4e09269...</td>\n",
       "      <td>Северо-Западный административный округ</td>\n",
       "      <td>муниципальный округ Щукино</td>\n",
       "      <td>многоквартирный дом</td>\n",
       "      <td>55.807827</td>\n",
       "      <td>37.453977</td>\n",
       "      <td>город Москва, Авиационная улица, дом 65, корпу...</td>\n",
       "    </tr>\n",
       "    <tr>\n",
       "      <th>1</th>\n",
       "      <td>7b9adf96d39c350de4fdf992f1ff2e497b1f8f5838cd9f...</td>\n",
       "      <td>Южный административный округ</td>\n",
       "      <td>муниципальный округ Зябликово</td>\n",
       "      <td>многоквартирный дом</td>\n",
       "      <td>55.623560</td>\n",
       "      <td>37.739392</td>\n",
       "      <td>Российская Федерация, город Москва, внутригоро...</td>\n",
       "    </tr>\n",
       "    <tr>\n",
       "      <th>2</th>\n",
       "      <td>eea53cceda9ab91905922e4fad25b4b146cfb647488f23...</td>\n",
       "      <td>Северо-Восточный административный округ</td>\n",
       "      <td>муниципальный округ Алтуфьевский</td>\n",
       "      <td>многоквартирный дом</td>\n",
       "      <td>55.885641</td>\n",
       "      <td>37.593456</td>\n",
       "      <td>Российская Федерация, город Москва, внутригоро...</td>\n",
       "    </tr>\n",
       "    <tr>\n",
       "      <th>3</th>\n",
       "      <td>9d0f9c193a2b3c86da7b807d19c8884113b0d2421b7155...</td>\n",
       "      <td>Южный административный округ</td>\n",
       "      <td>муниципальный округ Чертаново Северное</td>\n",
       "      <td>многоквартирный дом</td>\n",
       "      <td>55.630294</td>\n",
       "      <td>37.617104</td>\n",
       "      <td>Российская Федерация, город Москва, внутригоро...</td>\n",
       "    </tr>\n",
       "    <tr>\n",
       "      <th>4</th>\n",
       "      <td>e6c1cae0d69e48fc18621c51ffd1fd2b54dbf13c6d38b5...</td>\n",
       "      <td>Восточный административный округ</td>\n",
       "      <td>муниципальный округ Новогиреево</td>\n",
       "      <td>многоквартирный дом</td>\n",
       "      <td>55.742228</td>\n",
       "      <td>37.784629</td>\n",
       "      <td>город Москва, Кусковская улица, дом 29, корпус...</td>\n",
       "    </tr>\n",
       "    <tr>\n",
       "      <th>...</th>\n",
       "      <td>...</td>\n",
       "      <td>...</td>\n",
       "      <td>...</td>\n",
       "      <td>...</td>\n",
       "      <td>...</td>\n",
       "      <td>...</td>\n",
       "      <td>...</td>\n",
       "    </tr>\n",
       "    <tr>\n",
       "      <th>41367</th>\n",
       "      <td>0bd2902029c3d36f6ead25fe181b92b25bd816cdad8a5b...</td>\n",
       "      <td>Зеленоградский административный округ</td>\n",
       "      <td>район Крюково</td>\n",
       "      <td>cпортивный объект</td>\n",
       "      <td>55.974472</td>\n",
       "      <td>37.155215</td>\n",
       "      <td>Российская Федерация, город Москва, внутригоро...</td>\n",
       "    </tr>\n",
       "    <tr>\n",
       "      <th>41368</th>\n",
       "      <td>c350a792c7f85c3a19cceccabbee229e762627670c3d2f...</td>\n",
       "      <td>Зеленоградский административный округ</td>\n",
       "      <td>район Крюково</td>\n",
       "      <td>cпортивный объект</td>\n",
       "      <td>55.962885</td>\n",
       "      <td>37.174221</td>\n",
       "      <td>город Москва, город Зеленоград, проектируемый ...</td>\n",
       "    </tr>\n",
       "    <tr>\n",
       "      <th>41369</th>\n",
       "      <td>703ecf2861165481f798ca73c3b17a3f3d5eabbdbc7b94...</td>\n",
       "      <td>Южный административный округ</td>\n",
       "      <td>район Орехово-Борисово Северное</td>\n",
       "      <td>cпортивный объект</td>\n",
       "      <td>55.614951</td>\n",
       "      <td>37.713617</td>\n",
       "      <td>Российская Федерация, город Москва, внутригоро...</td>\n",
       "    </tr>\n",
       "    <tr>\n",
       "      <th>41370</th>\n",
       "      <td>9a4d692b68af938eeb2710c530c946516dcb39d85a9e62...</td>\n",
       "      <td>Западный административный округ</td>\n",
       "      <td>район Фили-Давыдково</td>\n",
       "      <td>cпортивный объект</td>\n",
       "      <td>55.734761</td>\n",
       "      <td>37.456232</td>\n",
       "      <td>Российская Федерация, город Москва, внутригоро...</td>\n",
       "    </tr>\n",
       "    <tr>\n",
       "      <th>41371</th>\n",
       "      <td>e3954a1c7efddf7f1bf68aaa6afe085044ac28bee7f103...</td>\n",
       "      <td>Юго-Восточный административный округ</td>\n",
       "      <td>район Текстильщики</td>\n",
       "      <td>cпортивный объект</td>\n",
       "      <td>55.708107</td>\n",
       "      <td>37.735709</td>\n",
       "      <td>г. Москва, пр-кт. Волгоградский, дом 46/15, ст...</td>\n",
       "    </tr>\n",
       "  </tbody>\n",
       "</table>\n",
       "<p>41372 rows × 7 columns</p>\n",
       "</div>"
      ],
      "text/plain": [
       "                                               object_id  \\\n",
       "0      c7ad8391b30a404697edcfdea4ba10fa7ea552b4e09269...   \n",
       "1      7b9adf96d39c350de4fdf992f1ff2e497b1f8f5838cd9f...   \n",
       "2      eea53cceda9ab91905922e4fad25b4b146cfb647488f23...   \n",
       "3      9d0f9c193a2b3c86da7b807d19c8884113b0d2421b7155...   \n",
       "4      e6c1cae0d69e48fc18621c51ffd1fd2b54dbf13c6d38b5...   \n",
       "...                                                  ...   \n",
       "41367  0bd2902029c3d36f6ead25fe181b92b25bd816cdad8a5b...   \n",
       "41368  c350a792c7f85c3a19cceccabbee229e762627670c3d2f...   \n",
       "41369  703ecf2861165481f798ca73c3b17a3f3d5eabbdbc7b94...   \n",
       "41370  9a4d692b68af938eeb2710c530c946516dcb39d85a9e62...   \n",
       "41371  e3954a1c7efddf7f1bf68aaa6afe085044ac28bee7f103...   \n",
       "\n",
       "                                      adm_area  \\\n",
       "0       Северо-Западный административный округ   \n",
       "1                 Южный административный округ   \n",
       "2      Северо-Восточный административный округ   \n",
       "3                 Южный административный округ   \n",
       "4             Восточный административный округ   \n",
       "...                                        ...   \n",
       "41367    Зеленоградский административный округ   \n",
       "41368    Зеленоградский административный округ   \n",
       "41369             Южный административный округ   \n",
       "41370          Западный административный округ   \n",
       "41371     Юго-Восточный административный округ   \n",
       "\n",
       "                                     district          object_type        lat  \\\n",
       "0                  муниципальный округ Щукино  многоквартирный дом  55.807827   \n",
       "1               муниципальный округ Зябликово  многоквартирный дом  55.623560   \n",
       "2            муниципальный округ Алтуфьевский  многоквартирный дом  55.885641   \n",
       "3      муниципальный округ Чертаново Северное  многоквартирный дом  55.630294   \n",
       "4             муниципальный округ Новогиреево  многоквартирный дом  55.742228   \n",
       "...                                       ...                  ...        ...   \n",
       "41367                           район Крюково    cпортивный объект  55.974472   \n",
       "41368                           район Крюково    cпортивный объект  55.962885   \n",
       "41369         район Орехово-Борисово Северное    cпортивный объект  55.614951   \n",
       "41370                    район Фили-Давыдково    cпортивный объект  55.734761   \n",
       "41371                      район Текстильщики    cпортивный объект  55.708107   \n",
       "\n",
       "             lon                                            address  \n",
       "0      37.453977  город Москва, Авиационная улица, дом 65, корпу...  \n",
       "1      37.739392  Российская Федерация, город Москва, внутригоро...  \n",
       "2      37.593456  Российская Федерация, город Москва, внутригоро...  \n",
       "3      37.617104  Российская Федерация, город Москва, внутригоро...  \n",
       "4      37.784629  город Москва, Кусковская улица, дом 29, корпус...  \n",
       "...          ...                                                ...  \n",
       "41367  37.155215  Российская Федерация, город Москва, внутригоро...  \n",
       "41368  37.174221  город Москва, город Зеленоград, проектируемый ...  \n",
       "41369  37.713617  Российская Федерация, город Москва, внутригоро...  \n",
       "41370  37.456232  Российская Федерация, город Москва, внутригоро...  \n",
       "41371  37.735709  г. Москва, пр-кт. Волгоградский, дом 46/15, ст...  \n",
       "\n",
       "[41372 rows x 7 columns]"
      ]
     },
     "execution_count": 11,
     "metadata": {},
     "output_type": "execute_result"
    }
   ],
   "source": [
    "database.load_to_bd(all_objects_data, 'all_objects_data')\n",
    "database.get_table_from_bd('all_objects_data')"
   ]
  }
 ],
 "metadata": {
  "kernelspec": {
   "display_name": "Python 3.9.4 64-bit ('ldt394')",
   "language": "python",
   "name": "python3"
  },
  "language_info": {
   "codemirror_mode": {
    "name": "ipython",
    "version": 3
   },
   "file_extension": ".py",
   "mimetype": "text/x-python",
   "name": "python",
   "nbconvert_exporter": "python",
   "pygments_lexer": "ipython3",
   "version": "3.9.4"
  },
  "orig_nbformat": 4,
  "vscode": {
   "interpreter": {
    "hash": "416ff4a8a645b770b77c696377ba1e06dd5c02854843a1a2f9b93263871a68e5"
   }
  }
 },
 "nbformat": 4,
 "nbformat_minor": 2
}
