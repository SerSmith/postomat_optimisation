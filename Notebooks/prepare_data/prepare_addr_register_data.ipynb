{
 "cells": [
  {
   "cell_type": "code",
   "execution_count": 1,
   "metadata": {},
   "outputs": [],
   "source": [
    "import os\n",
    "import re\n",
    "import hashlib\n",
    "from typing import List, Optional\n",
    "from warnings import warn\n",
    "import pandas as pd\n",
    "import numpy as np\n",
    "from tqdm import tqdm\n",
    "from shapely.geometry import Polygon\n",
    "\n",
    "import prepare_data\n",
    "from prepare_data import OBJECT_ID_COL\n",
    "\n",
    "pd.set_option('display.max_columns', None)\n",
    "tqdm.pandas()\n",
    "\n",
    "# https://data.mos.ru/opendata/60562/description?versionNumber=3&releaseNumber=823"
   ]
  },
  {
   "cell_type": "code",
   "execution_count": 2,
   "metadata": {},
   "outputs": [],
   "source": [
    "DATA_FOLDER = '/Users/affernus/PROJECTS_DATA/hacks/postomat_optimisation/address_register/'\n",
    "DATA_FILE = 'data-29580-2022-10-20.json'\n",
    "RESULT_FILE_BASENAME = 'prepared_addr_register'\n",
    "\n",
    "GEODATA_COL = 'GEODATA'\n",
    "GEODATA_CENTER_COL = 'GEODATA_CENTER'\n",
    "GEO_COLS = [GEODATA_COL, GEODATA_CENTER_COL]\n",
    "KAD_NUM_COLS = ['KAD_N', 'KAD_ZU']\n",
    "\n",
    "# На интерактивной карте не должны учитываться следующие административные округа: ТиНАО, ЗелАО.\n",
    "ADM_AREA_TO_EXCLUDE = [\n",
    "    'Зеленоградский административный округ',\n",
    "    'Новомосковский административный округ',\n",
    "    'Троицкий административный округ'\n",
    "    ]\n",
    "\n",
    "NAN_VALUES = ['', '-', '*']\n",
    "\n",
    "DMR_COLS_MAP = {\n",
    "    # Тип объекта адресации\n",
    "    # «здание», «сооружение», «владение», «домовладение», \n",
    "    # «объект незавершенного строительства», «земельный участок», \n",
    "    # «помещение», «комната», «объект адресации – помещение», \n",
    "    # «объект права», «объект адресации – комната».\n",
    "    'OBJ_TYPE': 'OBJECT_TYPE',\n",
    "    'ONTERRITORYOFMOSCOW': 'ON_MOSCOW_TERRITORY',\n",
    "    'ADDRESS': 'ADDRESS',\n",
    "    'SIMPLE_ADDRESS': 'SIMPLE_ADDRESS',\n",
    "    # Наименование элемента планировочной структуры или улично-дорожной сети\n",
    "    'P7': 'STREET',\n",
    "    # Тип номера дома, владения, участка: 'дом', 'владение', 'домовладение', nan, 'участок',\n",
    "    # 'земельный участок', 'сооружение'\n",
    "    'L1_TYPE': 'LOCAL_OBJECT_TYPE',\n",
    "    # номер ома, владения, участка\n",
    "    'L1_VALUE': 'LOCAL_OBJECT_NUM',\n",
    "    # Номер корпуса\n",
    "    'L2_VALUE': 'KORPUS_NUM',\n",
    "    # Номер строения или сооружения\n",
    "    'L3_VALUE': 'STROENIE_NUM',\n",
    "    # Административный округ\n",
    "    'ADM_AREA': 'ADM_AREA',\n",
    "    # Муниципальный округ, поселение\n",
    "    'DISTRICT': 'DISTRICT',\n",
    "    # Уникальный номер адреса в Адресном реестре\n",
    "    'NREG': 'NUM_ADDR_REGISTER',\n",
    "    # Дата регистрации адреса в Адресном реестре\n",
    "    'DREG': 'DATE_ADDR_REGISTER',\n",
    "    # Уникальный номер адреса в государственном адресном реестре (код (GUID) ФИАС для адреса)\n",
    "    'N_FIAS': 'GUID_FIAS',\n",
    "    # Дата начала действия адреса в государственном адресном реестре \n",
    "    'D_FIAS': 'DATE_FIAS',\n",
    "    # Кадастровый номер объекта недвижимости (кроме земельного участка)\n",
    "    'KAD_N': 'KAD_N',\n",
    "    # Кадастровый номер земельного участка (для объектов капитального строительства).\n",
    "    'KAD_ZU': 'KAD_ZU',\n",
    "    # код записи из Классификатора адресов Российской Федерации (КЛАДР),\n",
    "    # соответствующий объекту классификации для адресообразующего элемента нижнего уровня\n",
    "    'KLADR': 'KLADR_CODE',\n",
    "    # Статус адреса\n",
    "    # «ожидает выдачи разрешения на строительство» (действует до получения сведений о выдаче разрешения на строительство),\n",
    "    # «ожидает внесения в ГКН» (действует до получения сведений о постановке объекта на кадастровый учет),\n",
    "    # «внесён в ГКН» (действует с даты получения сведений о постановке объекта на кадастровый учет),\n",
    "    # «ожидает аннулирования в ГКН» (не используется),\n",
    "    # «аннулирован в ГКН» (устанавливается на основании полученного уведомления о снятии объекта с кадастрового учета),\n",
    "    # «аннулирован» (адрес погашен в Адресном реестре),\n",
    "    # «-» (прочерк).\n",
    "    'STATUS': 'ADDR_STATUS',\n",
    "    # абрис дома\n",
    "    'GEODATA': 'GEODATA',\n",
    "    # центр дома\n",
    "    'GEODATA_CENTER': 'GEODATA_CENTER'\n",
    "}"
   ]
  },
  {
   "cell_type": "code",
   "execution_count": 3,
   "metadata": {},
   "outputs": [],
   "source": [
    "def prepare_data_mos_ru(data,\n",
    "                        geodata_col: str=GEODATA_COL,\n",
    "                        geodata_center_col: str=GEODATA_CENTER_COL,\n",
    "                        geo_cols: Optional[List[str]]=None,\n",
    "                        kad_num_cols: Optional[List[str]]=None):\n",
    "    if geo_cols is None:\n",
    "        geo_cols = GEO_COLS\n",
    "    if kad_num_cols is None:\n",
    "        kad_num_cols = KAD_NUM_COLS\n",
    "\n",
    "    data = data.copy()\n",
    "    data = data.fillna('')\n",
    "    data.columns = [col.upper() for col in data.columns]\n",
    "\n",
    "    for col in geo_cols:\n",
    "        data[col] = data[col].progress_apply(prepare_data.prepare_geo)\n",
    "\n",
    "    for col in kad_num_cols:\n",
    "        data[col] = data[col].progress_apply(prepare_data.prepare_kad_num)\n",
    "\n",
    "    data[geodata_col] = data[geodata_col].progress_apply(prepare_data.create_geolist)\n",
    "    data[geodata_center_col] = data[geodata_col].progress_apply(prepare_data.calc_polygon_centroid)\n",
    "\n",
    "    return data"
   ]
  },
  {
   "cell_type": "code",
   "execution_count": 4,
   "metadata": {},
   "outputs": [],
   "source": [
    "# print(calc_polygon_centroid([[0,0], [1,0], [1,1], [0,1]]),\n",
    "#       'expect: [.5, .5]')\n",
    "# print(calc_polygon_centroid([[0,1], [0,-1], [2,0]]),\n",
    "#       'expect: [2/3, 0]')\n",
    "# print(calc_polygon_centroid([[0,-1], [0,1], [2,0]]),\n",
    "#       'expect: [2/3, 0]')\n",
    "# print(calc_polygon_centroid([[0,0], [1,0], [1.5,0.5], [1,1], [0,1], [-.5,.5]]),\n",
    "#       'expect: [.5, .5]')"
   ]
  },
  {
   "cell_type": "code",
   "execution_count": 5,
   "metadata": {},
   "outputs": [],
   "source": [
    "data_mos_ru = pd.read_json(os.path.join(DATA_FOLDER, DATA_FILE),\n",
    "                            encoding='cp1251').dropna(axis=1, how='all')"
   ]
  },
  {
   "cell_type": "code",
   "execution_count": 6,
   "metadata": {},
   "outputs": [
    {
     "name": "stderr",
     "output_type": "stream",
     "text": [
      "100%|██████████| 475401/475401 [00:13<00:00, 35434.43it/s]\n",
      "100%|██████████| 475401/475401 [00:03<00:00, 140633.46it/s]\n",
      "100%|██████████| 475401/475401 [00:01<00:00, 262232.15it/s]\n",
      "100%|██████████| 475401/475401 [00:02<00:00, 230058.55it/s]\n",
      "100%|██████████| 475401/475401 [00:11<00:00, 41835.96it/s] \n",
      "  0%|          | 0/475401 [00:00<?, ?it/s]/Users/affernus/PROJECTS/hacks/postomat_optimisation/Prepare_tables/prepare_data.py:102: UserWarning: coords is empty\n",
      "  warn('coords is empty')\n",
      "100%|██████████| 475401/475401 [00:20<00:00, 23171.46it/s]\n"
     ]
    }
   ],
   "source": [
    "prepared_dmr = prepare_data_mos_ru(data_mos_ru)\n",
    "prepared_dmr['N_FIAS'] = prepared_dmr['N_FIAS'].str.upper()"
   ]
  },
  {
   "cell_type": "code",
   "execution_count": 7,
   "metadata": {},
   "outputs": [],
   "source": [
    "prepared_dmr = prepared_dmr.replace({'': np.nan}).dropna(axis=1, how='all')"
   ]
  },
  {
   "cell_type": "code",
   "execution_count": 8,
   "metadata": {},
   "outputs": [
    {
     "data": {
      "text/plain": [
       "array(['Восточный административный округ',\n",
       "       'Центральный административный округ',\n",
       "       'Северный административный округ',\n",
       "       'Юго-Восточный административный округ',\n",
       "       'Южный административный округ', 'Западный административный округ',\n",
       "       'Северо-Восточный административный округ',\n",
       "       'Юго-Западный административный округ',\n",
       "       'Северо-Западный административный округ',\n",
       "       'Зеленоградский административный округ',\n",
       "       'Новомосковский административный округ',\n",
       "       'Троицкий административный округ'], dtype=object)"
      ]
     },
     "execution_count": 8,
     "metadata": {},
     "output_type": "execute_result"
    }
   ],
   "source": [
    "prepared_dmr['ADM_AREA'].unique()"
   ]
  },
  {
   "cell_type": "code",
   "execution_count": 9,
   "metadata": {},
   "outputs": [],
   "source": [
    "prepared_dmr = prepared_dmr[~prepared_dmr['ADM_AREA'].isin(ADM_AREA_TO_EXCLUDE)]"
   ]
  },
  {
   "cell_type": "code",
   "execution_count": 10,
   "metadata": {},
   "outputs": [],
   "source": [
    "prepared_dmr = prepared_dmr[DMR_COLS_MAP.keys()]"
   ]
  },
  {
   "cell_type": "code",
   "execution_count": 11,
   "metadata": {},
   "outputs": [],
   "source": [
    "prepared_dmr.columns = [DMR_COLS_MAP[col] for col in prepared_dmr.columns]"
   ]
  },
  {
   "cell_type": "code",
   "execution_count": 12,
   "metadata": {},
   "outputs": [],
   "source": [
    "prepared_dmr['GEODATA'] = prepared_dmr['GEODATA'].apply(lambda x: np.nan if x == [] else x)"
   ]
  },
  {
   "cell_type": "code",
   "execution_count": 13,
   "metadata": {},
   "outputs": [],
   "source": [
    "prepared_dmr = prepared_dmr.replace({val: np.nan for val in NAN_VALUES})"
   ]
  },
  {
   "cell_type": "code",
   "execution_count": 14,
   "metadata": {},
   "outputs": [],
   "source": [
    "prepared_dmr['LAT'] = prepared_dmr['GEODATA_CENTER'].apply(lambda x: x[1] if pd.notna(x) else x)\n",
    "prepared_dmr['LON'] = prepared_dmr['GEODATA_CENTER'].apply(lambda x: x[0] if pd.notna(x) else x)"
   ]
  },
  {
   "cell_type": "code",
   "execution_count": 15,
   "metadata": {},
   "outputs": [],
   "source": [
    "prepared_dmr = prepared_dmr.drop(columns='GEODATA_CENTER')"
   ]
  },
  {
   "cell_type": "code",
   "execution_count": 16,
   "metadata": {},
   "outputs": [],
   "source": [
    "prepared_dmr['NUM_ADDR_REGISTER'] = prepare_data.codes_to_str(prepared_dmr['NUM_ADDR_REGISTER'])\n",
    "prepared_dmr['KLADR_CODE'] = prepare_data.codes_to_str(prepared_dmr['KLADR_CODE'])"
   ]
  },
  {
   "cell_type": "code",
   "execution_count": 17,
   "metadata": {},
   "outputs": [
    {
     "data": {
      "text/html": [
       "<div>\n",
       "<style scoped>\n",
       "    .dataframe tbody tr th:only-of-type {\n",
       "        vertical-align: middle;\n",
       "    }\n",
       "\n",
       "    .dataframe tbody tr th {\n",
       "        vertical-align: top;\n",
       "    }\n",
       "\n",
       "    .dataframe thead th {\n",
       "        text-align: right;\n",
       "    }\n",
       "</style>\n",
       "<table border=\"1\" class=\"dataframe\">\n",
       "  <thead>\n",
       "    <tr style=\"text-align: right;\">\n",
       "      <th></th>\n",
       "      <th>OBJECT_TYPE</th>\n",
       "      <th>ON_MOSCOW_TERRITORY</th>\n",
       "      <th>ADDRESS</th>\n",
       "      <th>SIMPLE_ADDRESS</th>\n",
       "      <th>STREET</th>\n",
       "      <th>LOCAL_OBJECT_TYPE</th>\n",
       "      <th>LOCAL_OBJECT_NUM</th>\n",
       "      <th>KORPUS_NUM</th>\n",
       "      <th>STROENIE_NUM</th>\n",
       "      <th>ADM_AREA</th>\n",
       "      <th>DISTRICT</th>\n",
       "      <th>NUM_ADDR_REGISTER</th>\n",
       "      <th>DATE_ADDR_REGISTER</th>\n",
       "      <th>GUID_FIAS</th>\n",
       "      <th>DATE_FIAS</th>\n",
       "      <th>KAD_N</th>\n",
       "      <th>KAD_ZU</th>\n",
       "      <th>KLADR_CODE</th>\n",
       "      <th>ADDR_STATUS</th>\n",
       "      <th>GEODATA</th>\n",
       "      <th>LAT</th>\n",
       "      <th>LON</th>\n",
       "    </tr>\n",
       "  </thead>\n",
       "  <tbody>\n",
       "    <tr>\n",
       "      <th>0</th>\n",
       "      <td>Здание</td>\n",
       "      <td>да</td>\n",
       "      <td>Российская Федерация, город Москва, внутригородская территория муниципальный округ Вешняки, Косинская улица, дом 26А</td>\n",
       "      <td>Косинская улица, дом 26А</td>\n",
       "      <td>Косинская улица</td>\n",
       "      <td>дом</td>\n",
       "      <td>26А</td>\n",
       "      <td>NaN</td>\n",
       "      <td>NaN</td>\n",
       "      <td>Восточный административный округ</td>\n",
       "      <td>муниципальный округ Вешняки</td>\n",
       "      <td>3303053</td>\n",
       "      <td>03.08.2004</td>\n",
       "      <td>235212A3-01E8-4CC3-87D5-59F00C83898A</td>\n",
       "      <td>27.02.2012</td>\n",
       "      <td>77:03:0007004:1064</td>\n",
       "      <td>77:03:0007004:6443</td>\n",
       "      <td>77000000000040000</td>\n",
       "      <td>Внесён в ГКН</td>\n",
       "      <td>[[37.8279504545784, 55.7176609928454], [37.8286195050135, 55.7174401927724], [37.8284661997432, 55.7172920310098], [37.8280404992056, 55.7174326150897], [37.8279795383341, 55.7174527408861], [37.8277971493706, 55.7175128293572], [37.8279504545784, 55.7176609928454]]</td>\n",
       "      <td>55.717477</td>\n",
       "      <td>37.828208</td>\n",
       "    </tr>\n",
       "    <tr>\n",
       "      <th>1</th>\n",
       "      <td>Здание</td>\n",
       "      <td>да</td>\n",
       "      <td>Российская Федерация, город Москва, внутригородская территория муниципальный округ Басманный, Гороховский переулок, дом 21</td>\n",
       "      <td>Гороховский переулок, дом 21</td>\n",
       "      <td>Гороховский переулок</td>\n",
       "      <td>дом</td>\n",
       "      <td>21</td>\n",
       "      <td>NaN</td>\n",
       "      <td>NaN</td>\n",
       "      <td>Центральный административный округ</td>\n",
       "      <td>муниципальный округ Басманный</td>\n",
       "      <td>1011856</td>\n",
       "      <td>13.07.2005</td>\n",
       "      <td>533D296D-1ECC-49EA-9156-DCFA8E38E4D8</td>\n",
       "      <td>27.02.2012</td>\n",
       "      <td>77:01:0003010:1018</td>\n",
       "      <td>77:01:0003010:4146</td>\n",
       "      <td>77000000000112200</td>\n",
       "      <td>Внесён в ГКН</td>\n",
       "      <td>[[37.6682995208392, 55.7662431483298], [37.6683153361192, 55.7662161815465], [37.6682467711738, 55.7662023546956], [37.6682610223573, 55.7661821263411], [37.6681876684064, 55.7661660596898], [37.6681726244854, 55.7661871863933], [37.6681295710992, 55.7661782636006], [37.6681461617712, 55.7661463558389], [37.6680536825827, 55.7661285198332], [37.6680283160622, 55.7661572950872], [37.6678266067447, 55.7661162557855], [37.6677727488124, 55.7661881829886], [37.6677504217352, 55.7661828244461], [37.667709246984, 55.766240362676], [37.6679436471296, 55.766288544657], [37.6679270349883, 55.7663155115827], [37.6680322751771, 55.7663369247134], [37.6680496857547, 55.7663104048687], [37.6682649515806, 55.7663545688389], [37.668302916126, 55.7662916457961], [37.6683314068679, 55.7662484936784], [37.6682995208392, 55.7662431483298]]</td>\n",
       "      <td>55.766233</td>\n",
       "      <td>37.668037</td>\n",
       "    </tr>\n",
       "  </tbody>\n",
       "</table>\n",
       "</div>"
      ],
      "text/plain": [
       "  OBJECT_TYPE ON_MOSCOW_TERRITORY  \\\n",
       "0      Здание                  да   \n",
       "1      Здание                  да   \n",
       "\n",
       "                                                                                                                      ADDRESS  \\\n",
       "0        Российская Федерация, город Москва, внутригородская территория муниципальный округ Вешняки, Косинская улица, дом 26А   \n",
       "1  Российская Федерация, город Москва, внутригородская территория муниципальный округ Басманный, Гороховский переулок, дом 21   \n",
       "\n",
       "                 SIMPLE_ADDRESS                STREET LOCAL_OBJECT_TYPE  \\\n",
       "0      Косинская улица, дом 26А       Косинская улица               дом   \n",
       "1  Гороховский переулок, дом 21  Гороховский переулок               дом   \n",
       "\n",
       "  LOCAL_OBJECT_NUM KORPUS_NUM STROENIE_NUM  \\\n",
       "0              26А        NaN          NaN   \n",
       "1               21        NaN          NaN   \n",
       "\n",
       "                             ADM_AREA                       DISTRICT  \\\n",
       "0    Восточный административный округ    муниципальный округ Вешняки   \n",
       "1  Центральный административный округ  муниципальный округ Басманный   \n",
       "\n",
       "  NUM_ADDR_REGISTER DATE_ADDR_REGISTER                             GUID_FIAS  \\\n",
       "0           3303053         03.08.2004  235212A3-01E8-4CC3-87D5-59F00C83898A   \n",
       "1           1011856         13.07.2005  533D296D-1ECC-49EA-9156-DCFA8E38E4D8   \n",
       "\n",
       "    DATE_FIAS               KAD_N              KAD_ZU         KLADR_CODE  \\\n",
       "0  27.02.2012  77:03:0007004:1064  77:03:0007004:6443  77000000000040000   \n",
       "1  27.02.2012  77:01:0003010:1018  77:01:0003010:4146  77000000000112200   \n",
       "\n",
       "    ADDR_STATUS  \\\n",
       "0  Внесён в ГКН   \n",
       "1  Внесён в ГКН   \n",
       "\n",
       "                                                                                                                                                                                                                                                                                                                                                                                                                                                                                                                                                                                                                                                                                                                                                                                                                                                            GEODATA  \\\n",
       "0                                                                                                                                                                                                                                                                                                                                                                                                                                                                                                                                                                                        [[37.8279504545784, 55.7176609928454], [37.8286195050135, 55.7174401927724], [37.8284661997432, 55.7172920310098], [37.8280404992056, 55.7174326150897], [37.8279795383341, 55.7174527408861], [37.8277971493706, 55.7175128293572], [37.8279504545784, 55.7176609928454]]   \n",
       "1  [[37.6682995208392, 55.7662431483298], [37.6683153361192, 55.7662161815465], [37.6682467711738, 55.7662023546956], [37.6682610223573, 55.7661821263411], [37.6681876684064, 55.7661660596898], [37.6681726244854, 55.7661871863933], [37.6681295710992, 55.7661782636006], [37.6681461617712, 55.7661463558389], [37.6680536825827, 55.7661285198332], [37.6680283160622, 55.7661572950872], [37.6678266067447, 55.7661162557855], [37.6677727488124, 55.7661881829886], [37.6677504217352, 55.7661828244461], [37.667709246984, 55.766240362676], [37.6679436471296, 55.766288544657], [37.6679270349883, 55.7663155115827], [37.6680322751771, 55.7663369247134], [37.6680496857547, 55.7663104048687], [37.6682649515806, 55.7663545688389], [37.668302916126, 55.7662916457961], [37.6683314068679, 55.7662484936784], [37.6682995208392, 55.7662431483298]]   \n",
       "\n",
       "         LAT        LON  \n",
       "0  55.717477  37.828208  \n",
       "1  55.766233  37.668037  "
      ]
     },
     "metadata": {},
     "output_type": "display_data"
    },
    {
     "name": "stdout",
     "output_type": "stream",
     "text": [
      "(174145, 22)\n"
     ]
    }
   ],
   "source": [
    "with pd.option_context('display.max_columns', None, 'display.max_colwidth', None):\n",
    "    display(prepared_dmr.head(2))\n",
    "    print(prepared_dmr.shape)"
   ]
  },
  {
   "cell_type": "code",
   "execution_count": 18,
   "metadata": {},
   "outputs": [
    {
     "data": {
      "text/plain": [
       "OBJECT_TYPE                 0\n",
       "ON_MOSCOW_TERRITORY         0\n",
       "ADDRESS                     0\n",
       "SIMPLE_ADDRESS              0\n",
       "STREET                   1998\n",
       "LOCAL_OBJECT_TYPE        2267\n",
       "LOCAL_OBJECT_NUM         2242\n",
       "KORPUS_NUM             141429\n",
       "STROENIE_NUM            90770\n",
       "ADM_AREA                    0\n",
       "DISTRICT                    0\n",
       "NUM_ADDR_REGISTER           0\n",
       "DATE_ADDR_REGISTER      11850\n",
       "GUID_FIAS                7800\n",
       "DATE_FIAS                7741\n",
       "KAD_N                   47849\n",
       "KAD_ZU                  77043\n",
       "KLADR_CODE                  0\n",
       "ADDR_STATUS              8898\n",
       "GEODATA                 22566\n",
       "LAT                     22566\n",
       "LON                     22566\n",
       "dtype: int64"
      ]
     },
     "execution_count": 18,
     "metadata": {},
     "output_type": "execute_result"
    }
   ],
   "source": [
    "prepared_dmr.isna().sum()"
   ]
  },
  {
   "cell_type": "code",
   "execution_count": 19,
   "metadata": {},
   "outputs": [
    {
     "data": {
      "text/plain": [
       "(165901, 174145)"
      ]
     },
     "execution_count": 19,
     "metadata": {},
     "output_type": "execute_result"
    }
   ],
   "source": [
    "prepared_dmr['GUID_FIAS'].unique().shape[0], prepared_dmr.shape[0]"
   ]
  },
  {
   "cell_type": "code",
   "execution_count": 21,
   "metadata": {},
   "outputs": [],
   "source": [
    "prepared_dmr[OBJECT_ID_COL] = prepare_data.get_row_hashes(prepared_dmr)"
   ]
  },
  {
   "cell_type": "code",
   "execution_count": 22,
   "metadata": {},
   "outputs": [
    {
     "data": {
      "text/html": [
       "<div>\n",
       "<style scoped>\n",
       "    .dataframe tbody tr th:only-of-type {\n",
       "        vertical-align: middle;\n",
       "    }\n",
       "\n",
       "    .dataframe tbody tr th {\n",
       "        vertical-align: top;\n",
       "    }\n",
       "\n",
       "    .dataframe thead th {\n",
       "        text-align: right;\n",
       "    }\n",
       "</style>\n",
       "<table border=\"1\" class=\"dataframe\">\n",
       "  <thead>\n",
       "    <tr style=\"text-align: right;\">\n",
       "      <th></th>\n",
       "      <th>OBJECT_TYPE</th>\n",
       "      <th>ON_MOSCOW_TERRITORY</th>\n",
       "      <th>ADDRESS</th>\n",
       "      <th>SIMPLE_ADDRESS</th>\n",
       "      <th>STREET</th>\n",
       "      <th>LOCAL_OBJECT_TYPE</th>\n",
       "      <th>LOCAL_OBJECT_NUM</th>\n",
       "      <th>KORPUS_NUM</th>\n",
       "      <th>STROENIE_NUM</th>\n",
       "      <th>ADM_AREA</th>\n",
       "      <th>DISTRICT</th>\n",
       "      <th>NUM_ADDR_REGISTER</th>\n",
       "      <th>DATE_ADDR_REGISTER</th>\n",
       "      <th>GUID_FIAS</th>\n",
       "      <th>DATE_FIAS</th>\n",
       "      <th>KAD_N</th>\n",
       "      <th>KAD_ZU</th>\n",
       "      <th>KLADR_CODE</th>\n",
       "      <th>ADDR_STATUS</th>\n",
       "      <th>GEODATA</th>\n",
       "      <th>LAT</th>\n",
       "      <th>LON</th>\n",
       "      <th>OBJECT_ID</th>\n",
       "    </tr>\n",
       "  </thead>\n",
       "  <tbody>\n",
       "    <tr>\n",
       "      <th>0</th>\n",
       "      <td>Здание</td>\n",
       "      <td>да</td>\n",
       "      <td>Российская Федерация, город Москва, внутригоро...</td>\n",
       "      <td>Косинская улица, дом 26А</td>\n",
       "      <td>Косинская улица</td>\n",
       "      <td>дом</td>\n",
       "      <td>26А</td>\n",
       "      <td>NaN</td>\n",
       "      <td>NaN</td>\n",
       "      <td>Восточный административный округ</td>\n",
       "      <td>муниципальный округ Вешняки</td>\n",
       "      <td>3303053</td>\n",
       "      <td>03.08.2004</td>\n",
       "      <td>235212A3-01E8-4CC3-87D5-59F00C83898A</td>\n",
       "      <td>27.02.2012</td>\n",
       "      <td>77:03:0007004:1064</td>\n",
       "      <td>77:03:0007004:6443</td>\n",
       "      <td>77000000000040000</td>\n",
       "      <td>Внесён в ГКН</td>\n",
       "      <td>[[37.8279504545784, 55.7176609928454], [37.828...</td>\n",
       "      <td>55.717477</td>\n",
       "      <td>37.828208</td>\n",
       "      <td>d2000323020834c81f704195dd68b59499d4800f4b2cae...</td>\n",
       "    </tr>\n",
       "    <tr>\n",
       "      <th>1</th>\n",
       "      <td>Здание</td>\n",
       "      <td>да</td>\n",
       "      <td>Российская Федерация, город Москва, внутригоро...</td>\n",
       "      <td>Гороховский переулок, дом 21</td>\n",
       "      <td>Гороховский переулок</td>\n",
       "      <td>дом</td>\n",
       "      <td>21</td>\n",
       "      <td>NaN</td>\n",
       "      <td>NaN</td>\n",
       "      <td>Центральный административный округ</td>\n",
       "      <td>муниципальный округ Басманный</td>\n",
       "      <td>1011856</td>\n",
       "      <td>13.07.2005</td>\n",
       "      <td>533D296D-1ECC-49EA-9156-DCFA8E38E4D8</td>\n",
       "      <td>27.02.2012</td>\n",
       "      <td>77:01:0003010:1018</td>\n",
       "      <td>77:01:0003010:4146</td>\n",
       "      <td>77000000000112200</td>\n",
       "      <td>Внесён в ГКН</td>\n",
       "      <td>[[37.6682995208392, 55.7662431483298], [37.668...</td>\n",
       "      <td>55.766233</td>\n",
       "      <td>37.668037</td>\n",
       "      <td>5d6cf51cd08bca0baf6680258a2e6a3a293b264b64d6c4...</td>\n",
       "    </tr>\n",
       "  </tbody>\n",
       "</table>\n",
       "</div>"
      ],
      "text/plain": [
       "  OBJECT_TYPE ON_MOSCOW_TERRITORY  \\\n",
       "0      Здание                  да   \n",
       "1      Здание                  да   \n",
       "\n",
       "                                             ADDRESS  \\\n",
       "0  Российская Федерация, город Москва, внутригоро...   \n",
       "1  Российская Федерация, город Москва, внутригоро...   \n",
       "\n",
       "                 SIMPLE_ADDRESS                STREET LOCAL_OBJECT_TYPE  \\\n",
       "0      Косинская улица, дом 26А       Косинская улица               дом   \n",
       "1  Гороховский переулок, дом 21  Гороховский переулок               дом   \n",
       "\n",
       "  LOCAL_OBJECT_NUM KORPUS_NUM STROENIE_NUM  \\\n",
       "0              26А        NaN          NaN   \n",
       "1               21        NaN          NaN   \n",
       "\n",
       "                             ADM_AREA                       DISTRICT  \\\n",
       "0    Восточный административный округ    муниципальный округ Вешняки   \n",
       "1  Центральный административный округ  муниципальный округ Басманный   \n",
       "\n",
       "  NUM_ADDR_REGISTER DATE_ADDR_REGISTER                             GUID_FIAS  \\\n",
       "0           3303053         03.08.2004  235212A3-01E8-4CC3-87D5-59F00C83898A   \n",
       "1           1011856         13.07.2005  533D296D-1ECC-49EA-9156-DCFA8E38E4D8   \n",
       "\n",
       "    DATE_FIAS               KAD_N              KAD_ZU         KLADR_CODE  \\\n",
       "0  27.02.2012  77:03:0007004:1064  77:03:0007004:6443  77000000000040000   \n",
       "1  27.02.2012  77:01:0003010:1018  77:01:0003010:4146  77000000000112200   \n",
       "\n",
       "    ADDR_STATUS                                            GEODATA        LAT  \\\n",
       "0  Внесён в ГКН  [[37.8279504545784, 55.7176609928454], [37.828...  55.717477   \n",
       "1  Внесён в ГКН  [[37.6682995208392, 55.7662431483298], [37.668...  55.766233   \n",
       "\n",
       "         LON                                          OBJECT_ID  \n",
       "0  37.828208  d2000323020834c81f704195dd68b59499d4800f4b2cae...  \n",
       "1  37.668037  5d6cf51cd08bca0baf6680258a2e6a3a293b264b64d6c4...  "
      ]
     },
     "execution_count": 22,
     "metadata": {},
     "output_type": "execute_result"
    }
   ],
   "source": [
    "prepared_dmr.head(2)"
   ]
  },
  {
   "cell_type": "code",
   "execution_count": 23,
   "metadata": {},
   "outputs": [],
   "source": [
    "assert prepared_dmr[OBJECT_ID_COL].duplicated().sum() == 0"
   ]
  },
  {
   "cell_type": "code",
   "execution_count": null,
   "metadata": {},
   "outputs": [],
   "source": [
    "prepared_dmr.to_pickle(os.path.join(DATA_FOLDER, f'{RESULT_FILE_BASENAME}.pickle'), protocol=4)"
   ]
  }
 ],
 "metadata": {
  "kernelspec": {
   "display_name": "Python 3.9.4 64-bit ('ldt394')",
   "language": "python",
   "name": "python3"
  },
  "language_info": {
   "codemirror_mode": {
    "name": "ipython",
    "version": 3
   },
   "file_extension": ".py",
   "mimetype": "text/x-python",
   "name": "python",
   "nbconvert_exporter": "python",
   "pygments_lexer": "ipython3",
   "version": "3.9.4"
  },
  "orig_nbformat": 4,
  "vscode": {
   "interpreter": {
    "hash": "416ff4a8a645b770b77c696377ba1e06dd5c02854843a1a2f9b93263871a68e5"
   }
  }
 },
 "nbformat": 4,
 "nbformat_minor": 2
}
