{
 "cells": [
  {
   "cell_type": "markdown",
   "metadata": {},
   "source": [
    "# Пример создания и заполнения таблички <code>all_objects_data</code> sql-запросом\n",
    "\n",
    "Если перед этим табличка была создана скриптами <code>src/postamats/utils/load.py</code>, то её надо удалить, т.к. в этой DDL задается PK, а в скриптах не задается"
   ]
  },
  {
   "cell_type": "code",
   "execution_count": 6,
   "metadata": {},
   "outputs": [
    {
     "name": "stdout",
     "output_type": "stream",
     "text": [
      "Connection to PostgreSQL DB successful\n",
      "Connection to PostgreSQL DB successful\n"
     ]
    }
   ],
   "source": [
    "import os\n",
    "import json\n",
    "import psycopg2\n",
    "from postamats.utils import load\n",
    "from postamats.utils.connections import DB, PATH_TO_ROOT\n",
    "\n",
    "# путь к json с реквизитами подключения к БД\n",
    "CONFIG_PATH = os.path.join(PATH_TO_ROOT, 'db_config.json')\n",
    "with open(CONFIG_PATH, mode='r') as db_file:\n",
    "    db_config = json.load(db_file)\n",
    "\n",
    "ddl_query = load.get_query_from_file('all_objects_data_ddl.sql')\n",
    "etl_query = load.get_query_from_file('all_objects_data.sql')\n",
    "db_conn = DB(db_config)\n",
    "\n",
    "try:\n",
    "    db_conn.execute_query(ddl_query)\n",
    "except psycopg2.errors.DuplicateTable:\n",
    "    print('relation \"all_objects_data\" already exists')\n",
    "\n",
    "db_conn.execute_query(etl_query)"
   ]
  }
 ],
 "metadata": {
  "kernelspec": {
   "display_name": "Python 3.9.4 64-bit ('ldt394')",
   "language": "python",
   "name": "python3"
  },
  "language_info": {
   "codemirror_mode": {
    "name": "ipython",
    "version": 3
   },
   "file_extension": ".py",
   "mimetype": "text/x-python",
   "name": "python",
   "nbconvert_exporter": "python",
   "pygments_lexer": "ipython3",
   "version": "3.9.4"
  },
  "orig_nbformat": 4,
  "vscode": {
   "interpreter": {
    "hash": "416ff4a8a645b770b77c696377ba1e06dd5c02854843a1a2f9b93263871a68e5"
   }
  }
 },
 "nbformat": 4,
 "nbformat_minor": 2
}
