{
 "cells": [
  {
   "cell_type": "markdown",
   "metadata": {},
   "source": [
    "# Финальная сборка и заливка табличек с данными о многоквартирных домах, зданиях и сооружениях\n",
    "\n",
    "Заливаются таблички:\n",
    "-  <code>apartment_houses_all_data</code>\n",
    "-  <code>all_dmr_houses_data</code>\n",
    "- <code>all_gis_houses_data</code>\n",
    "\n",
    "Перед прогоном тетрадки нужно запустить подготовку данных:\n",
    "- <code>step1_prepare_dmr_houses_data.ipynb</code>\n",
    "- <code>step2_prepare_gis_houses_data.ipynb</code>"
   ]
  },
  {
   "cell_type": "code",
   "execution_count": null,
   "metadata": {},
   "outputs": [],
   "source": [
    "import os\n",
    "import json\n",
    "from warnings import warn\n",
    "import pandas as pd\n",
    "import numpy as np\n",
    "from tqdm import tqdm\n",
    "\n",
    "from postamats.utils import load\n",
    "from postamats.utils.connections import DB\n",
    "from postamats.utils.prepare_data import OBJECT_ID_COL, PREPARED_DATA_PATH, PREPARED_DMR_FILE, PREPARED_GIS_FILE\n",
    "\n",
    "prepared_data_path = load.get_full_path_from_relative(PREPARED_DATA_PATH)\n",
    "\n",
    "pd.set_option('display.max_columns', None)\n",
    "tqdm.pandas()"
   ]
  },
  {
   "cell_type": "code",
   "execution_count": null,
   "metadata": {},
   "outputs": [],
   "source": [
    "# путь к json с реквизитами подключения к БД\n",
    "CONFIG_PATH = '/Users/affernus/PROJECTS_DATA/hacks/postomat_optimisation/db_config.json'"
   ]
  },
  {
   "cell_type": "code",
   "execution_count": null,
   "metadata": {},
   "outputs": [],
   "source": [
    "prepared_gis_house_data = pd.read_pickle(\n",
    "    os.path.join(prepared_data_path, PREPARED_GIS_FILE)\n",
    "    ).drop(columns=OBJECT_ID_COL)\n",
    "prepared_dmr = pd.read_pickle(os.path.join(prepared_data_path, PREPARED_DMR_FILE))"
   ]
  },
  {
   "cell_type": "code",
   "execution_count": null,
   "metadata": {},
   "outputs": [],
   "source": [
    "prepared_gis_house_data.head(2)"
   ]
  },
  {
   "cell_type": "code",
   "execution_count": null,
   "metadata": {},
   "outputs": [],
   "source": [
    "gis_cols = prepared_gis_house_data.columns"
   ]
  },
  {
   "cell_type": "code",
   "execution_count": null,
   "metadata": {},
   "outputs": [],
   "source": [
    "prepared_dmr.head(2)"
   ]
  },
  {
   "cell_type": "code",
   "execution_count": null,
   "metadata": {},
   "outputs": [],
   "source": [
    "dmr_cols = prepared_dmr.columns"
   ]
  },
  {
   "cell_type": "code",
   "execution_count": null,
   "metadata": {},
   "outputs": [],
   "source": [
    "dmr_fias = set(prepared_dmr['GUID_FIAS'].dropna())\n",
    "dmr_kadn = set(prepared_dmr['KAD_N'].dropna())\n",
    "dmr_kadzu = set(prepared_dmr['KAD_ZU'].dropna())"
   ]
  },
  {
   "cell_type": "code",
   "execution_count": null,
   "metadata": {},
   "outputs": [],
   "source": [
    "houses_data_fias = set(prepared_gis_house_data['GUID_FIAS'].dropna())\n",
    "houses_data_kadn = set(prepared_gis_house_data['CADASTRAL_NUM'].dropna())"
   ]
  },
  {
   "cell_type": "code",
   "execution_count": null,
   "metadata": {},
   "outputs": [],
   "source": [
    "print('fias:', len(houses_data_fias), len(dmr_fias))\n",
    "print('kadn', len(houses_data_kadn), len(dmr_kadn))\n",
    "print('kadn', len(houses_data_kadn), len(dmr_kadzu))"
   ]
  },
  {
   "cell_type": "code",
   "execution_count": null,
   "metadata": {},
   "outputs": [],
   "source": [
    "print(len(houses_data_fias & dmr_fias))\n",
    "print(len(houses_data_kadn & dmr_kadn))\n",
    "print(len(houses_data_kadn & dmr_kadzu))"
   ]
  },
  {
   "cell_type": "code",
   "execution_count": null,
   "metadata": {},
   "outputs": [],
   "source": [
    "data_merged_fias = prepared_dmr.merge(\n",
    "    prepared_gis_house_data,\n",
    "    on=['GUID_FIAS'],\n",
    "    how='left'\n",
    "    )"
   ]
  },
  {
   "cell_type": "code",
   "execution_count": null,
   "metadata": {},
   "outputs": [],
   "source": [
    "data_merged_kadn = prepared_dmr.dropna(subset=['KAD_N']).merge(\n",
    "    prepared_gis_house_data.dropna(subset=['CADASTRAL_NUM']),\n",
    "    left_on=['KAD_N'],\n",
    "    right_on=['CADASTRAL_NUM'],\n",
    "    how='inner'\n",
    "    )"
   ]
  },
  {
   "cell_type": "code",
   "execution_count": null,
   "metadata": {},
   "outputs": [],
   "source": [
    "data_merged_kadzu = prepared_dmr.dropna(subset=['KAD_ZU']).merge(\n",
    "    prepared_gis_house_data.dropna(subset=['CADASTRAL_NUM']),\n",
    "    left_on=['KAD_ZU'],\n",
    "    right_on=['CADASTRAL_NUM'],\n",
    "    how='inner'\n",
    "    )"
   ]
  },
  {
   "cell_type": "code",
   "execution_count": null,
   "metadata": {},
   "outputs": [],
   "source": [
    "data_merged = pd.concat([data_merged_fias, data_merged_kadn, data_merged_kadzu])\n",
    "\n",
    "data_merged.loc[data_merged['GUID_FIAS_x'].notna(),'GUID_FIAS'] = data_merged.loc[data_merged['GUID_FIAS_x'].notna(), 'GUID_FIAS_x']\n",
    "\n",
    "data_merged['has_house_data'] = data_merged['GUID_HOUSE'].notna()\n",
    "data_merged = data_merged.drop(columns=['GUID_FIAS_x', 'GUID_FIAS_y'])\n",
    "data_merged = data_merged.sort_values(by='has_house_data')\n",
    "print(data_merged.shape)\n",
    "data_merged = data_merged.drop_duplicates(subset=OBJECT_ID_COL, keep='last')\n",
    "data_merged = data_merged.drop(columns='has_house_data')\n",
    "data_merged = data_merged.reset_index(drop=True)\n",
    "print(data_merged.shape)\n",
    "print(prepared_dmr.shape)"
   ]
  },
  {
   "cell_type": "code",
   "execution_count": null,
   "metadata": {},
   "outputs": [],
   "source": [
    "final_gis = data_merged[list(gis_cols) + [OBJECT_ID_COL]].copy()\n",
    "final_gis = final_gis.dropna(\n",
    "    subset=[col for col in final_gis.columns if col not in [OBJECT_ID_COL, 'GUID_FIAS']\n",
    "    ], how='all')\n",
    "final_gis"
   ]
  },
  {
   "cell_type": "code",
   "execution_count": null,
   "metadata": {},
   "outputs": [],
   "source": [
    "final_dmr = data_merged[dmr_cols].copy()\n",
    "final_dmr"
   ]
  },
  {
   "cell_type": "code",
   "execution_count": null,
   "metadata": {},
   "outputs": [],
   "source": [
    "final_houses = data_merged.dropna(subset=['LAT', 'LON', 'TOTAL_AREA'])\n",
    "final_houses['OBJECT_TYPE'] = 'многоквартирный дом'\n",
    "final_houses"
   ]
  },
  {
   "cell_type": "code",
   "execution_count": null,
   "metadata": {},
   "outputs": [],
   "source": [
    "with open(CONFIG_PATH, mode='r') as db_file:\n",
    "    db_config = json.load(db_file)\n",
    "\n",
    "database = DB(db_config)"
   ]
  },
  {
   "cell_type": "code",
   "execution_count": null,
   "metadata": {},
   "outputs": [],
   "source": [
    "for data, name in zip(\n",
    "    [final_dmr, final_gis, final_houses],\n",
    "    ['all_dmr_houses_data', 'all_gis_houses_data', 'apartment_houses_all_data']):\n",
    "    assert data[OBJECT_ID_COL].duplicated().sum() == 0\n",
    "    database.load_to_bd(data, name)\n",
    "    display(database.get_table_from_bd(name))"
   ]
  }
 ],
 "metadata": {
  "kernelspec": {
   "display_name": "Python 3.9.4 64-bit ('ldt394')",
   "language": "python",
   "name": "python3"
  },
  "language_info": {
   "codemirror_mode": {
    "name": "ipython",
    "version": 3
   },
   "file_extension": ".py",
   "mimetype": "text/x-python",
   "name": "python",
   "nbconvert_exporter": "python",
   "pygments_lexer": "ipython3",
   "version": "3.9.4"
  },
  "orig_nbformat": 4,
  "vscode": {
   "interpreter": {
    "hash": "416ff4a8a645b770b77c696377ba1e06dd5c02854843a1a2f9b93263871a68e5"
   }
  }
 },
 "nbformat": 4,
 "nbformat_minor": 2
}
