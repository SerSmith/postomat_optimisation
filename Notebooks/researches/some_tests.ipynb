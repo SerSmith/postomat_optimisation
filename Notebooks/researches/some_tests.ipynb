{
 "cells": [
  {
   "cell_type": "code",
   "execution_count": 15,
   "metadata": {},
   "outputs": [
    {
     "data": {
      "text/plain": [
       "array([[1.41421356e-01, 1.41421356e+03, 2.82842712e+00, 1.55563492e+00],\n",
       "       [1.27279221e+00, 1.41279935e+03, 1.41421356e+00, 1.41421356e-01],\n",
       "       [1.41279935e+02, 1.27279221e+03, 1.38592929e+02, 1.39865721e+02]])"
      ]
     },
     "metadata": {},
     "output_type": "display_data"
    },
    {
     "name": "stdout",
     "output_type": "stream",
     "text": [
      "[0 3 2]\n",
      "[0 2 3 0 2 3 0 2 3]\n"
     ]
    },
    {
     "data": {
      "text/plain": [
       "array([0, 3, 2])"
      ]
     },
     "execution_count": 15,
     "metadata": {},
     "output_type": "execute_result"
    }
   ],
   "source": [
    "import numpy as np\n",
    "import pandas as pd\n",
    "from scipy.sparse import csr_matrix\n",
    "from sklearn.metrics import pairwise_distances\n",
    "\n",
    "points1 = [[0, 0], [1,1], [100, 100]]\n",
    "points2 = [[0.1, 0.1], [1000, 1000], [2,2], [1.1, 1.1]]\n",
    "\n",
    "test_arr = pairwise_distances(points1, points2)\n",
    "\n",
    "display(test_arr)\n",
    "# кейс 1 - выбираем точки points2, которые ближе всего к точкам points2 0й, 1й и 2й соотв.\n",
    "nearest_2_to_1 = test_arr.argmin(axis=1)\n",
    "print(nearest_2_to_1)\n",
    "# кейс 2 - точки, которые ближе порогового расстояния\n",
    "closer_thresh_2_to_1 = np.where(test_arr < 250)[1]\n",
    "print(closer_thresh_2_to_1)\n",
    "\n",
    "to_select = nearest_2_to_1[pd.Series(nearest_2_to_1).isin( set(closer_thresh_2_to_1) )]\n",
    "\n",
    "to_select\n",
    "# argm = x_arr.argmin(axis=0)\n",
    "# display(X.argmin(axis=1))"
   ]
  }
 ],
 "metadata": {
  "kernelspec": {
   "display_name": "Python 3.9.4 64-bit ('ldt394')",
   "language": "python",
   "name": "python3"
  },
  "language_info": {
   "codemirror_mode": {
    "name": "ipython",
    "version": 3
   },
   "file_extension": ".py",
   "mimetype": "text/x-python",
   "name": "python",
   "nbconvert_exporter": "python",
   "pygments_lexer": "ipython3",
   "version": "3.9.4"
  },
  "orig_nbformat": 4,
  "vscode": {
   "interpreter": {
    "hash": "416ff4a8a645b770b77c696377ba1e06dd5c02854843a1a2f9b93263871a68e5"
   }
  }
 },
 "nbformat": 4,
 "nbformat_minor": 2
}
